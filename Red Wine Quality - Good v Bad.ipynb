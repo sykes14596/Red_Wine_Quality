{
 "cells": [
  {
   "cell_type": "code",
   "execution_count": 1,
   "metadata": {},
   "outputs": [],
   "source": [
    "import numpy as np\n",
    "import pandas as pd\n",
    "import matplotlib.pyplot as plt\n",
    "import seaborn as sns\n",
    "%matplotlib inline"
   ]
  },
  {
   "cell_type": "markdown",
   "metadata": {},
   "source": [
    "## Red Wine Quality\n",
    "\n",
    "In this project, I will perform some exploratory data analysis and create a model to predict the quality of red wine.\n",
    "\n",
    "First, import the data."
   ]
  },
  {
   "cell_type": "code",
   "execution_count": 2,
   "metadata": {},
   "outputs": [],
   "source": [
    "df = pd.read_csv('winequality-red.csv')"
   ]
  },
  {
   "cell_type": "code",
   "execution_count": 3,
   "metadata": {},
   "outputs": [
    {
     "data": {
      "text/html": [
       "<div>\n",
       "<style scoped>\n",
       "    .dataframe tbody tr th:only-of-type {\n",
       "        vertical-align: middle;\n",
       "    }\n",
       "\n",
       "    .dataframe tbody tr th {\n",
       "        vertical-align: top;\n",
       "    }\n",
       "\n",
       "    .dataframe thead th {\n",
       "        text-align: right;\n",
       "    }\n",
       "</style>\n",
       "<table border=\"1\" class=\"dataframe\">\n",
       "  <thead>\n",
       "    <tr style=\"text-align: right;\">\n",
       "      <th></th>\n",
       "      <th>fixed acidity</th>\n",
       "      <th>volatile acidity</th>\n",
       "      <th>citric acid</th>\n",
       "      <th>residual sugar</th>\n",
       "      <th>chlorides</th>\n",
       "      <th>free sulfur dioxide</th>\n",
       "      <th>total sulfur dioxide</th>\n",
       "      <th>density</th>\n",
       "      <th>pH</th>\n",
       "      <th>sulphates</th>\n",
       "      <th>alcohol</th>\n",
       "      <th>quality</th>\n",
       "    </tr>\n",
       "  </thead>\n",
       "  <tbody>\n",
       "    <tr>\n",
       "      <th>0</th>\n",
       "      <td>7.4</td>\n",
       "      <td>0.70</td>\n",
       "      <td>0.00</td>\n",
       "      <td>1.9</td>\n",
       "      <td>0.076</td>\n",
       "      <td>11.0</td>\n",
       "      <td>34.0</td>\n",
       "      <td>0.9978</td>\n",
       "      <td>3.51</td>\n",
       "      <td>0.56</td>\n",
       "      <td>9.4</td>\n",
       "      <td>5</td>\n",
       "    </tr>\n",
       "    <tr>\n",
       "      <th>1</th>\n",
       "      <td>7.8</td>\n",
       "      <td>0.88</td>\n",
       "      <td>0.00</td>\n",
       "      <td>2.6</td>\n",
       "      <td>0.098</td>\n",
       "      <td>25.0</td>\n",
       "      <td>67.0</td>\n",
       "      <td>0.9968</td>\n",
       "      <td>3.20</td>\n",
       "      <td>0.68</td>\n",
       "      <td>9.8</td>\n",
       "      <td>5</td>\n",
       "    </tr>\n",
       "    <tr>\n",
       "      <th>2</th>\n",
       "      <td>7.8</td>\n",
       "      <td>0.76</td>\n",
       "      <td>0.04</td>\n",
       "      <td>2.3</td>\n",
       "      <td>0.092</td>\n",
       "      <td>15.0</td>\n",
       "      <td>54.0</td>\n",
       "      <td>0.9970</td>\n",
       "      <td>3.26</td>\n",
       "      <td>0.65</td>\n",
       "      <td>9.8</td>\n",
       "      <td>5</td>\n",
       "    </tr>\n",
       "    <tr>\n",
       "      <th>3</th>\n",
       "      <td>11.2</td>\n",
       "      <td>0.28</td>\n",
       "      <td>0.56</td>\n",
       "      <td>1.9</td>\n",
       "      <td>0.075</td>\n",
       "      <td>17.0</td>\n",
       "      <td>60.0</td>\n",
       "      <td>0.9980</td>\n",
       "      <td>3.16</td>\n",
       "      <td>0.58</td>\n",
       "      <td>9.8</td>\n",
       "      <td>6</td>\n",
       "    </tr>\n",
       "    <tr>\n",
       "      <th>4</th>\n",
       "      <td>7.4</td>\n",
       "      <td>0.70</td>\n",
       "      <td>0.00</td>\n",
       "      <td>1.9</td>\n",
       "      <td>0.076</td>\n",
       "      <td>11.0</td>\n",
       "      <td>34.0</td>\n",
       "      <td>0.9978</td>\n",
       "      <td>3.51</td>\n",
       "      <td>0.56</td>\n",
       "      <td>9.4</td>\n",
       "      <td>5</td>\n",
       "    </tr>\n",
       "  </tbody>\n",
       "</table>\n",
       "</div>"
      ],
      "text/plain": [
       "   fixed acidity  volatile acidity  citric acid  residual sugar  chlorides  \\\n",
       "0            7.4              0.70         0.00             1.9      0.076   \n",
       "1            7.8              0.88         0.00             2.6      0.098   \n",
       "2            7.8              0.76         0.04             2.3      0.092   \n",
       "3           11.2              0.28         0.56             1.9      0.075   \n",
       "4            7.4              0.70         0.00             1.9      0.076   \n",
       "\n",
       "   free sulfur dioxide  total sulfur dioxide  density    pH  sulphates  \\\n",
       "0                 11.0                  34.0   0.9978  3.51       0.56   \n",
       "1                 25.0                  67.0   0.9968  3.20       0.68   \n",
       "2                 15.0                  54.0   0.9970  3.26       0.65   \n",
       "3                 17.0                  60.0   0.9980  3.16       0.58   \n",
       "4                 11.0                  34.0   0.9978  3.51       0.56   \n",
       "\n",
       "   alcohol  quality  \n",
       "0      9.4        5  \n",
       "1      9.8        5  \n",
       "2      9.8        5  \n",
       "3      9.8        6  \n",
       "4      9.4        5  "
      ]
     },
     "execution_count": 3,
     "metadata": {},
     "output_type": "execute_result"
    }
   ],
   "source": [
    "df.head()"
   ]
  },
  {
   "cell_type": "code",
   "execution_count": 4,
   "metadata": {},
   "outputs": [
    {
     "name": "stdout",
     "output_type": "stream",
     "text": [
      "<class 'pandas.core.frame.DataFrame'>\n",
      "RangeIndex: 1599 entries, 0 to 1598\n",
      "Data columns (total 12 columns):\n",
      " #   Column                Non-Null Count  Dtype  \n",
      "---  ------                --------------  -----  \n",
      " 0   fixed acidity         1599 non-null   float64\n",
      " 1   volatile acidity      1599 non-null   float64\n",
      " 2   citric acid           1599 non-null   float64\n",
      " 3   residual sugar        1599 non-null   float64\n",
      " 4   chlorides             1599 non-null   float64\n",
      " 5   free sulfur dioxide   1599 non-null   float64\n",
      " 6   total sulfur dioxide  1599 non-null   float64\n",
      " 7   density               1599 non-null   float64\n",
      " 8   pH                    1599 non-null   float64\n",
      " 9   sulphates             1599 non-null   float64\n",
      " 10  alcohol               1599 non-null   float64\n",
      " 11  quality               1599 non-null   int64  \n",
      "dtypes: float64(11), int64(1)\n",
      "memory usage: 150.0 KB\n"
     ]
    }
   ],
   "source": [
    "df.info()"
   ]
  },
  {
   "cell_type": "code",
   "execution_count": 5,
   "metadata": {},
   "outputs": [
    {
     "data": {
      "text/html": [
       "<div>\n",
       "<style scoped>\n",
       "    .dataframe tbody tr th:only-of-type {\n",
       "        vertical-align: middle;\n",
       "    }\n",
       "\n",
       "    .dataframe tbody tr th {\n",
       "        vertical-align: top;\n",
       "    }\n",
       "\n",
       "    .dataframe thead th {\n",
       "        text-align: right;\n",
       "    }\n",
       "</style>\n",
       "<table border=\"1\" class=\"dataframe\">\n",
       "  <thead>\n",
       "    <tr style=\"text-align: right;\">\n",
       "      <th></th>\n",
       "      <th>fixed acidity</th>\n",
       "      <th>volatile acidity</th>\n",
       "      <th>citric acid</th>\n",
       "      <th>residual sugar</th>\n",
       "      <th>chlorides</th>\n",
       "      <th>free sulfur dioxide</th>\n",
       "      <th>total sulfur dioxide</th>\n",
       "      <th>density</th>\n",
       "      <th>pH</th>\n",
       "      <th>sulphates</th>\n",
       "      <th>alcohol</th>\n",
       "      <th>quality</th>\n",
       "    </tr>\n",
       "  </thead>\n",
       "  <tbody>\n",
       "    <tr>\n",
       "      <th>count</th>\n",
       "      <td>1599.000000</td>\n",
       "      <td>1599.000000</td>\n",
       "      <td>1599.000000</td>\n",
       "      <td>1599.000000</td>\n",
       "      <td>1599.000000</td>\n",
       "      <td>1599.000000</td>\n",
       "      <td>1599.000000</td>\n",
       "      <td>1599.000000</td>\n",
       "      <td>1599.000000</td>\n",
       "      <td>1599.000000</td>\n",
       "      <td>1599.000000</td>\n",
       "      <td>1599.000000</td>\n",
       "    </tr>\n",
       "    <tr>\n",
       "      <th>mean</th>\n",
       "      <td>8.319637</td>\n",
       "      <td>0.527821</td>\n",
       "      <td>0.270976</td>\n",
       "      <td>2.538806</td>\n",
       "      <td>0.087467</td>\n",
       "      <td>15.874922</td>\n",
       "      <td>46.467792</td>\n",
       "      <td>0.996747</td>\n",
       "      <td>3.311113</td>\n",
       "      <td>0.658149</td>\n",
       "      <td>10.422983</td>\n",
       "      <td>5.636023</td>\n",
       "    </tr>\n",
       "    <tr>\n",
       "      <th>std</th>\n",
       "      <td>1.741096</td>\n",
       "      <td>0.179060</td>\n",
       "      <td>0.194801</td>\n",
       "      <td>1.409928</td>\n",
       "      <td>0.047065</td>\n",
       "      <td>10.460157</td>\n",
       "      <td>32.895324</td>\n",
       "      <td>0.001887</td>\n",
       "      <td>0.154386</td>\n",
       "      <td>0.169507</td>\n",
       "      <td>1.065668</td>\n",
       "      <td>0.807569</td>\n",
       "    </tr>\n",
       "    <tr>\n",
       "      <th>min</th>\n",
       "      <td>4.600000</td>\n",
       "      <td>0.120000</td>\n",
       "      <td>0.000000</td>\n",
       "      <td>0.900000</td>\n",
       "      <td>0.012000</td>\n",
       "      <td>1.000000</td>\n",
       "      <td>6.000000</td>\n",
       "      <td>0.990070</td>\n",
       "      <td>2.740000</td>\n",
       "      <td>0.330000</td>\n",
       "      <td>8.400000</td>\n",
       "      <td>3.000000</td>\n",
       "    </tr>\n",
       "    <tr>\n",
       "      <th>25%</th>\n",
       "      <td>7.100000</td>\n",
       "      <td>0.390000</td>\n",
       "      <td>0.090000</td>\n",
       "      <td>1.900000</td>\n",
       "      <td>0.070000</td>\n",
       "      <td>7.000000</td>\n",
       "      <td>22.000000</td>\n",
       "      <td>0.995600</td>\n",
       "      <td>3.210000</td>\n",
       "      <td>0.550000</td>\n",
       "      <td>9.500000</td>\n",
       "      <td>5.000000</td>\n",
       "    </tr>\n",
       "    <tr>\n",
       "      <th>50%</th>\n",
       "      <td>7.900000</td>\n",
       "      <td>0.520000</td>\n",
       "      <td>0.260000</td>\n",
       "      <td>2.200000</td>\n",
       "      <td>0.079000</td>\n",
       "      <td>14.000000</td>\n",
       "      <td>38.000000</td>\n",
       "      <td>0.996750</td>\n",
       "      <td>3.310000</td>\n",
       "      <td>0.620000</td>\n",
       "      <td>10.200000</td>\n",
       "      <td>6.000000</td>\n",
       "    </tr>\n",
       "    <tr>\n",
       "      <th>75%</th>\n",
       "      <td>9.200000</td>\n",
       "      <td>0.640000</td>\n",
       "      <td>0.420000</td>\n",
       "      <td>2.600000</td>\n",
       "      <td>0.090000</td>\n",
       "      <td>21.000000</td>\n",
       "      <td>62.000000</td>\n",
       "      <td>0.997835</td>\n",
       "      <td>3.400000</td>\n",
       "      <td>0.730000</td>\n",
       "      <td>11.100000</td>\n",
       "      <td>6.000000</td>\n",
       "    </tr>\n",
       "    <tr>\n",
       "      <th>max</th>\n",
       "      <td>15.900000</td>\n",
       "      <td>1.580000</td>\n",
       "      <td>1.000000</td>\n",
       "      <td>15.500000</td>\n",
       "      <td>0.611000</td>\n",
       "      <td>72.000000</td>\n",
       "      <td>289.000000</td>\n",
       "      <td>1.003690</td>\n",
       "      <td>4.010000</td>\n",
       "      <td>2.000000</td>\n",
       "      <td>14.900000</td>\n",
       "      <td>8.000000</td>\n",
       "    </tr>\n",
       "  </tbody>\n",
       "</table>\n",
       "</div>"
      ],
      "text/plain": [
       "       fixed acidity  volatile acidity  citric acid  residual sugar  \\\n",
       "count    1599.000000       1599.000000  1599.000000     1599.000000   \n",
       "mean        8.319637          0.527821     0.270976        2.538806   \n",
       "std         1.741096          0.179060     0.194801        1.409928   \n",
       "min         4.600000          0.120000     0.000000        0.900000   \n",
       "25%         7.100000          0.390000     0.090000        1.900000   \n",
       "50%         7.900000          0.520000     0.260000        2.200000   \n",
       "75%         9.200000          0.640000     0.420000        2.600000   \n",
       "max        15.900000          1.580000     1.000000       15.500000   \n",
       "\n",
       "         chlorides  free sulfur dioxide  total sulfur dioxide      density  \\\n",
       "count  1599.000000          1599.000000           1599.000000  1599.000000   \n",
       "mean      0.087467            15.874922             46.467792     0.996747   \n",
       "std       0.047065            10.460157             32.895324     0.001887   \n",
       "min       0.012000             1.000000              6.000000     0.990070   \n",
       "25%       0.070000             7.000000             22.000000     0.995600   \n",
       "50%       0.079000            14.000000             38.000000     0.996750   \n",
       "75%       0.090000            21.000000             62.000000     0.997835   \n",
       "max       0.611000            72.000000            289.000000     1.003690   \n",
       "\n",
       "                pH    sulphates      alcohol      quality  \n",
       "count  1599.000000  1599.000000  1599.000000  1599.000000  \n",
       "mean      3.311113     0.658149    10.422983     5.636023  \n",
       "std       0.154386     0.169507     1.065668     0.807569  \n",
       "min       2.740000     0.330000     8.400000     3.000000  \n",
       "25%       3.210000     0.550000     9.500000     5.000000  \n",
       "50%       3.310000     0.620000    10.200000     6.000000  \n",
       "75%       3.400000     0.730000    11.100000     6.000000  \n",
       "max       4.010000     2.000000    14.900000     8.000000  "
      ]
     },
     "execution_count": 5,
     "metadata": {},
     "output_type": "execute_result"
    }
   ],
   "source": [
    "df.describe()"
   ]
  },
  {
   "cell_type": "markdown",
   "metadata": {},
   "source": [
    "# Exploratory Data Analysis\n",
    "\n",
    "The aim of this project is to determine what variables effect the quality of red wine and use the data provided in order to predict the quality of future red wines. As a result, it will be useful to determine the effect of each variable on the wine quality in turn.\n",
    "\n",
    "## Fixed Acidity"
   ]
  },
  {
   "cell_type": "code",
   "execution_count": 11,
   "metadata": {},
   "outputs": [
    {
     "data": {
      "text/plain": [
       "<seaborn.axisgrid.FacetGrid at 0x1b359f5e108>"
      ]
     },
     "execution_count": 11,
     "metadata": {},
     "output_type": "execute_result"
    },
    {
     "data": {
      "image/png": "[encoded data removed]",
      "text/plain": [
       "<Figure size 360x360 with 1 Axes>"
      ]
     },
     "metadata": {
      "needs_background": "light"
     },
     "output_type": "display_data"
    }
   ],
   "source": [
    "sns.lmplot(x='fixed acidity',y='quality',data=df)"
   ]
  },
  {
   "cell_type": "markdown",
   "metadata": {},
   "source": [
    "This plot seems to show that there is little to no correlation between the fixed acidity of the wine and its quality. Let us move on to the next variable.\n",
    "\n",
    "## Volatile Acidity"
   ]
  },
  {
   "cell_type": "code",
   "execution_count": 10,
   "metadata": {},
   "outputs": [
    {
     "data": {
      "text/plain": [
       "<seaborn.axisgrid.FacetGrid at 0x1b3590acb08>"
      ]
     },
     "execution_count": 10,
     "metadata": {},
     "output_type": "execute_result"
    },
    {
     "data": {
      "image/png": "[encoded data removed]",
      "text/plain": [
       "<Figure size 360x360 with 1 Axes>"
      ]
     },
     "metadata": {
      "needs_background": "light"
     },
     "output_type": "display_data"
    }
   ],
   "source": [
    "sns.lmplot(x='volatile acidity',y='quality',data=df)"
   ]
  },
  {
   "cell_type": "markdown",
   "metadata": {},
   "source": [
    "The plot above shows that there is a reasonably strong negative correlation between volatile acidity and quality. It appears that the higher quality wines have a lower average volatile acidity level."
   ]
  },
  {
   "cell_type": "code",
   "execution_count": 14,
   "metadata": {},
   "outputs": [
    {
     "data": {
      "text/plain": [
       "quality\n",
       "3    0.884500\n",
       "4    0.693962\n",
       "5    0.577041\n",
       "6    0.497484\n",
       "7    0.403920\n",
       "8    0.423333\n",
       "Name: volatile acidity, dtype: float64"
      ]
     },
     "execution_count": 14,
     "metadata": {},
     "output_type": "execute_result"
    }
   ],
   "source": [
    "df.groupby('quality').mean()['volatile acidity']"
   ]
  },
  {
   "cell_type": "markdown",
   "metadata": {},
   "source": [
    "The series above highlights the observation even further and as a result this variable appears to be an important factor in determining the quality of red wine. \n",
    "\n",
    "Let us now move on to the next variable.\n",
    "\n",
    "## Citric Acid"
   ]
  },
  {
   "cell_type": "code",
   "execution_count": 15,
   "metadata": {},
   "outputs": [
    {
     "data": {
      "text/plain": [
       "<seaborn.axisgrid.FacetGrid at 0x1b359ff1988>"
      ]
     },
     "execution_count": 15,
     "metadata": {},
     "output_type": "execute_result"
    },
    {
     "data": {
      "image/png": "[encoded data removed]",
      "text/plain": [
       "<Figure size 360x360 with 1 Axes>"
      ]
     },
     "metadata": {
      "needs_background": "light"
     },
     "output_type": "display_data"
    }
   ],
   "source": [
    "sns.lmplot(x='citric acid',y='quality',data=df)"
   ]
  },
  {
   "cell_type": "code",
   "execution_count": 16,
   "metadata": {},
   "outputs": [
    {
     "data": {
      "text/plain": [
       "quality\n",
       "3    0.171000\n",
       "4    0.174151\n",
       "5    0.243686\n",
       "6    0.273824\n",
       "7    0.375176\n",
       "8    0.391111\n",
       "Name: citric acid, dtype: float64"
      ]
     },
     "execution_count": 16,
     "metadata": {},
     "output_type": "execute_result"
    }
   ],
   "source": [
    "df.groupby('quality').mean()['citric acid']"
   ]
  },
  {
   "cell_type": "markdown",
   "metadata": {},
   "source": [
    "The plot and series above show that there is a steady increase of wine quality as the citric acid level increases. As a result, this variable will be considered to be an important one in predicting the quality of wine.\n",
    "\n",
    "## Residual Sugar"
   ]
  },
  {
   "cell_type": "code",
   "execution_count": 17,
   "metadata": {},
   "outputs": [
    {
     "data": {
      "text/plain": [
       "<seaborn.axisgrid.FacetGrid at 0x1b359fea308>"
      ]
     },
     "execution_count": 17,
     "metadata": {},
     "output_type": "execute_result"
    },
    {
     "data": {
      "image/png": "[encoded data removed]",
      "text/plain": [
       "<Figure size 360x360 with 1 Axes>"
      ]
     },
     "metadata": {
      "needs_background": "light"
     },
     "output_type": "display_data"
    }
   ],
   "source": [
    "sns.lmplot(x='residual sugar',y='quality',data=df)"
   ]
  },
  {
   "cell_type": "markdown",
   "metadata": {},
   "source": [
    "This plot shows that the residual sugar level of the red wine has no effect on the quality. \n",
    "\n",
    "## Chlorides"
   ]
  },
  {
   "cell_type": "code",
   "execution_count": 19,
   "metadata": {},
   "outputs": [
    {
     "data": {
      "text/plain": [
       "<seaborn.axisgrid.FacetGrid at 0x1b35a0acac8>"
      ]
     },
     "execution_count": 19,
     "metadata": {},
     "output_type": "execute_result"
    },
    {
     "data": {
      "image/png": "[encoded data removed]",
      "text/plain": [
       "<Figure size 360x360 with 1 Axes>"
      ]
     },
     "metadata": {
      "needs_background": "light"
     },
     "output_type": "display_data"
    }
   ],
   "source": [
    "sns.lmplot(x='chlorides',y='quality',data=df)"
   ]
  },
  {
   "cell_type": "markdown",
   "metadata": {},
   "source": [
    "This linear model plot seems to show that there is a negative relationshi between the chlorides contained within a wine and the wine's quality. However, there are two wines within the dataset that have a seemingly large value chloride value, and this may be affecting the fitting of the linear model. Let us explore this further by investigating the mean chloride level per quality value."
   ]
  },
  {
   "cell_type": "code",
   "execution_count": 21,
   "metadata": {},
   "outputs": [
    {
     "data": {
      "text/plain": [
       "quality\n",
       "3    0.122500\n",
       "4    0.090679\n",
       "5    0.092736\n",
       "6    0.084956\n",
       "7    0.076588\n",
       "8    0.068444\n",
       "Name: chlorides, dtype: float64"
      ]
     },
     "execution_count": 21,
     "metadata": {},
     "output_type": "execute_result"
    }
   ],
   "source": [
    "df.groupby('quality').mean()['chlorides']"
   ]
  },
  {
   "cell_type": "markdown",
   "metadata": {},
   "source": [
    "The series above clearly shows the same trend, but let us remove the two rows where the chloride value equals 0.6 and repeat the plot."
   ]
  },
  {
   "cell_type": "code",
   "execution_count": 23,
   "metadata": {},
   "outputs": [],
   "source": [
    "df = df[df['chlorides'] < 0.6]"
   ]
  },
  {
   "cell_type": "code",
   "execution_count": 24,
   "metadata": {},
   "outputs": [
    {
     "name": "stdout",
     "output_type": "stream",
     "text": [
      "<class 'pandas.core.frame.DataFrame'>\n",
      "Int64Index: 1597 entries, 0 to 1598\n",
      "Data columns (total 12 columns):\n",
      " #   Column                Non-Null Count  Dtype  \n",
      "---  ------                --------------  -----  \n",
      " 0   fixed acidity         1597 non-null   float64\n",
      " 1   volatile acidity      1597 non-null   float64\n",
      " 2   citric acid           1597 non-null   float64\n",
      " 3   residual sugar        1597 non-null   float64\n",
      " 4   chlorides             1597 non-null   float64\n",
      " 5   free sulfur dioxide   1597 non-null   float64\n",
      " 6   total sulfur dioxide  1597 non-null   float64\n",
      " 7   density               1597 non-null   float64\n",
      " 8   pH                    1597 non-null   float64\n",
      " 9   sulphates             1597 non-null   float64\n",
      " 10  alcohol               1597 non-null   float64\n",
      " 11  quality               1597 non-null   int64  \n",
      "dtypes: float64(11), int64(1)\n",
      "memory usage: 162.2 KB\n"
     ]
    }
   ],
   "source": [
    "df.info()"
   ]
  },
  {
   "cell_type": "markdown",
   "metadata": {},
   "source": [
    "We have successfully removed the appropriate rows. Let us now repeat the plot and see how the linear model has changed as a result."
   ]
  },
  {
   "cell_type": "code",
   "execution_count": 25,
   "metadata": {},
   "outputs": [
    {
     "data": {
      "text/plain": [
       "<seaborn.axisgrid.FacetGrid at 0x1b35a3b1108>"
      ]
     },
     "execution_count": 25,
     "metadata": {},
     "output_type": "execute_result"
    },
    {
     "data": {
      "image/png": "[encoded data removed]",
      "text/plain": [
       "<Figure size 360x360 with 1 Axes>"
      ]
     },
     "metadata": {
      "needs_background": "light"
     },
     "output_type": "display_data"
    }
   ],
   "source": [
    "sns.lmplot(x='chlorides',y='quality',data=df)"
   ]
  },
  {
   "cell_type": "markdown",
   "metadata": {},
   "source": [
    "There is still a clear and obvious negative relationship between these two variables and the outlying values had little effect on this relationship. Let us add those values back into the dataset by re-reading the csv file."
   ]
  },
  {
   "cell_type": "code",
   "execution_count": 26,
   "metadata": {},
   "outputs": [],
   "source": [
    "df = pd.read_csv('winequality-red.csv')"
   ]
  },
  {
   "cell_type": "code",
   "execution_count": 27,
   "metadata": {},
   "outputs": [
    {
     "name": "stdout",
     "output_type": "stream",
     "text": [
      "<class 'pandas.core.frame.DataFrame'>\n",
      "RangeIndex: 1599 entries, 0 to 1598\n",
      "Data columns (total 12 columns):\n",
      " #   Column                Non-Null Count  Dtype  \n",
      "---  ------                --------------  -----  \n",
      " 0   fixed acidity         1599 non-null   float64\n",
      " 1   volatile acidity      1599 non-null   float64\n",
      " 2   citric acid           1599 non-null   float64\n",
      " 3   residual sugar        1599 non-null   float64\n",
      " 4   chlorides             1599 non-null   float64\n",
      " 5   free sulfur dioxide   1599 non-null   float64\n",
      " 6   total sulfur dioxide  1599 non-null   float64\n",
      " 7   density               1599 non-null   float64\n",
      " 8   pH                    1599 non-null   float64\n",
      " 9   sulphates             1599 non-null   float64\n",
      " 10  alcohol               1599 non-null   float64\n",
      " 11  quality               1599 non-null   int64  \n",
      "dtypes: float64(11), int64(1)\n",
      "memory usage: 150.0 KB\n"
     ]
    }
   ],
   "source": [
    "df.info()"
   ]
  },
  {
   "cell_type": "markdown",
   "metadata": {},
   "source": [
    "## Free Sulfur Dioxide"
   ]
  },
  {
   "cell_type": "code",
   "execution_count": 28,
   "metadata": {},
   "outputs": [
    {
     "data": {
      "text/plain": [
       "<seaborn.axisgrid.FacetGrid at 0x1b35a42e188>"
      ]
     },
     "execution_count": 28,
     "metadata": {},
     "output_type": "execute_result"
    },
    {
     "data": {
      "image/png": "[encoded data removed]",
      "text/plain": [
       "<Figure size 360x360 with 1 Axes>"
      ]
     },
     "metadata": {
      "needs_background": "light"
     },
     "output_type": "display_data"
    }
   ],
   "source": [
    "sns.lmplot(x='free sulfur dioxide',y='quality',data=df)"
   ]
  },
  {
   "cell_type": "markdown",
   "metadata": {},
   "source": [
    "This plot shows that there is no notable relationship between the free sulfur dioxide within the wine and the quality of the wine.\n",
    "\n",
    "## Total Sulfur Dioxide"
   ]
  },
  {
   "cell_type": "code",
   "execution_count": 29,
   "metadata": {},
   "outputs": [
    {
     "data": {
      "text/plain": [
       "<seaborn.axisgrid.FacetGrid at 0x1b35a449088>"
      ]
     },
     "execution_count": 29,
     "metadata": {},
     "output_type": "execute_result"
    },
    {
     "data": {
      "image/png": "[encoded data removed]",
      "text/plain": [
       "<Figure size 360x360 with 1 Axes>"
      ]
     },
     "metadata": {
      "needs_background": "light"
     },
     "output_type": "display_data"
    }
   ],
   "source": [
    "sns.lmplot(x='total sulfur dioxide',y='quality',data=df)"
   ]
  },
  {
   "cell_type": "markdown",
   "metadata": {},
   "source": [
    "We notice from this plot that there are two wines of quality equal to 7 that have an extremely large amount of sulfur dioxide within them. Overall, there seems to be a negative impact on the quality of the wine as the total sulfur dioxide increases. Let us investigate the two outlying wines."
   ]
  },
  {
   "cell_type": "code",
   "execution_count": 38,
   "metadata": {},
   "outputs": [],
   "source": [
    "df = df[df['total sulfur dioxide'] < 250]"
   ]
  },
  {
   "cell_type": "code",
   "execution_count": 39,
   "metadata": {},
   "outputs": [
    {
     "data": {
      "text/plain": [
       "<seaborn.axisgrid.FacetGrid at 0x1b35a58e1c8>"
      ]
     },
     "execution_count": 39,
     "metadata": {},
     "output_type": "execute_result"
    },
    {
     "data": {
      "image/png": "[encoded data removed]",
      "text/plain": [
       "<Figure size 360x360 with 1 Axes>"
      ]
     },
     "metadata": {
      "needs_background": "light"
     },
     "output_type": "display_data"
    }
   ],
   "source": [
    "sns.lmplot(x='total sulfur dioxide',y='quality',data=df)"
   ]
  },
  {
   "cell_type": "code",
   "execution_count": 48,
   "metadata": {},
   "outputs": [
    {
     "data": {
      "text/plain": [
       "Text(0.5, 1.0, 'Average total sulfur dioxide per quality rating')"
      ]
     },
     "execution_count": 48,
     "metadata": {},
     "output_type": "execute_result"
    },
    {
     "data": {
      "image/png": "[encoded data removed]",
      "text/plain": [
       "<Figure size 432x288 with 1 Axes>"
      ]
     },
     "metadata": {
      "needs_background": "light"
     },
     "output_type": "display_data"
    }
   ],
   "source": [
    "plt.figure()\n",
    "df.groupby('quality').mean()['total sulfur dioxide'].plot(kind='bar')\n",
    "plt.ylabel('mean total sulfur dioxide')\n",
    "plt.title('Average total sulfur dioxide per quality rating')"
   ]
  },
  {
   "cell_type": "markdown",
   "metadata": {},
   "source": [
    "After removing the two outlying wines, we can see that the overall relationship between the total sulfur dioxide and the quality of the wine seems to be unchanged. \n",
    "\n",
    "This variable seems to be an important factor in determining the quality of a wine.\n",
    "\n",
    "## Density"
   ]
  },
  {
   "cell_type": "code",
   "execution_count": 40,
   "metadata": {},
   "outputs": [
    {
     "data": {
      "text/plain": [
       "<seaborn.axisgrid.FacetGrid at 0x1b35a612408>"
      ]
     },
     "execution_count": 40,
     "metadata": {},
     "output_type": "execute_result"
    },
    {
     "data": {
      "image/png": "[encoded data removed]",
      "text/plain": [
       "<Figure size 360x360 with 1 Axes>"
      ]
     },
     "metadata": {
      "needs_background": "light"
     },
     "output_type": "display_data"
    }
   ],
   "source": [
    "sns.lmplot(x='density',y='quality',data=df)"
   ]
  },
  {
   "cell_type": "code",
   "execution_count": 41,
   "metadata": {},
   "outputs": [
    {
     "data": {
      "text/plain": [
       "count    1597.000000\n",
       "mean        0.996751\n",
       "std         0.001884\n",
       "min         0.990070\n",
       "25%         0.995600\n",
       "50%         0.996750\n",
       "75%         0.997840\n",
       "max         1.003690\n",
       "Name: density, dtype: float64"
      ]
     },
     "execution_count": 41,
     "metadata": {},
     "output_type": "execute_result"
    }
   ],
   "source": [
    "df['density'].describe()"
   ]
  },
  {
   "cell_type": "code",
   "execution_count": 47,
   "metadata": {},
   "outputs": [
    {
     "data": {
      "text/plain": [
       "Text(0.5, 1.0, 'Average density per quality rating')"
      ]
     },
     "execution_count": 47,
     "metadata": {},
     "output_type": "execute_result"
    },
    {
     "data": {
      "image/png": "[encoded data removed]",
      "text/plain": [
       "<Figure size 432x288 with 1 Axes>"
      ]
     },
     "metadata": {
      "needs_background": "light"
     },
     "output_type": "display_data"
    }
   ],
   "source": [
    "plt.figure()\n",
    "df.groupby('quality').mean()['density'].plot(kind='bar')\n",
    "plt.ylabel('mean Density')\n",
    "plt.title('Average density per quality rating')"
   ]
  },
  {
   "cell_type": "markdown",
   "metadata": {},
   "source": [
    "The range of density values for the observations we have within our dataset is extremely narrow. As a result, the linear model plot shown above does not necessarily indicate a clear relationship between the two variables. This is indicated by the bar plot as the mean density for all wines within each class quality rating does not change significantly.\n",
    "\n",
    "## pH"
   ]
  },
  {
   "cell_type": "code",
   "execution_count": 49,
   "metadata": {},
   "outputs": [
    {
     "data": {
      "text/plain": [
       "<seaborn.axisgrid.FacetGrid at 0x1b35c418208>"
      ]
     },
     "execution_count": 49,
     "metadata": {},
     "output_type": "execute_result"
    },
    {
     "data": {
      "image/png": "[encoded data removed]",
      "text/plain": [
       "<Figure size 360x360 with 1 Axes>"
      ]
     },
     "metadata": {
      "needs_background": "light"
     },
     "output_type": "display_data"
    }
   ],
   "source": [
    "sns.lmplot(x='pH',y='quality',data=df)"
   ]
  },
  {
   "cell_type": "code",
   "execution_count": 50,
   "metadata": {},
   "outputs": [
    {
     "data": {
      "text/plain": [
       "Text(0.5, 1.0, 'Average pH per quality rating')"
      ]
     },
     "execution_count": 50,
     "metadata": {},
     "output_type": "execute_result"
    },
    {
     "data": {
      "image/png": "[encoded data removed]",
      "text/plain": [
       "<Figure size 432x288 with 1 Axes>"
      ]
     },
     "metadata": {
      "needs_background": "light"
     },
     "output_type": "display_data"
    }
   ],
   "source": [
    "plt.figure()\n",
    "df.groupby('quality').mean()['pH'].plot(kind='bar')\n",
    "plt.ylabel('mean pH')\n",
    "plt.title('Average pH per quality rating')"
   ]
  },
  {
   "cell_type": "markdown",
   "metadata": {},
   "source": [
    "We can see that the pH variable seems to have little effect on the overall quality of the wine.\n",
    "\n",
    "## Sulphates"
   ]
  },
  {
   "cell_type": "code",
   "execution_count": 52,
   "metadata": {},
   "outputs": [
    {
     "data": {
      "text/plain": [
       "Text(0.5, 1.0, 'Mean sulphates per quality rating')"
      ]
     },
     "execution_count": 52,
     "metadata": {},
     "output_type": "execute_result"
    },
    {
     "data": {
      "image/png": "[encoded data removed]",
      "text/plain": [
       "<Figure size 432x288 with 1 Axes>"
      ]
     },
     "metadata": {
      "needs_background": "light"
     },
     "output_type": "display_data"
    }
   ],
   "source": [
    "plt.figure()\n",
    "df.groupby('quality').mean()['sulphates'].plot(kind='bar')\n",
    "plt.ylabel('Mean sulphates')\n",
    "plt.title('Mean sulphates per quality rating')"
   ]
  },
  {
   "cell_type": "markdown",
   "metadata": {},
   "source": [
    "The bar graph above shows that there is a clear relationship between the sulphate level and the quality of the wine. \n",
    "\n",
    "## Alcohol"
   ]
  },
  {
   "cell_type": "code",
   "execution_count": 53,
   "metadata": {},
   "outputs": [
    {
     "data": {
      "text/plain": [
       "Text(0.5, 1.0, 'Mean alcohol per quality rating')"
      ]
     },
     "execution_count": 53,
     "metadata": {},
     "output_type": "execute_result"
    },
    {
     "data": {
      "image/png": "[encoded data removed]",
      "text/plain": [
       "<Figure size 432x288 with 1 Axes>"
      ]
     },
     "metadata": {
      "needs_background": "light"
     },
     "output_type": "display_data"
    }
   ],
   "source": [
    "plt.figure()\n",
    "df.groupby('quality').mean()['alcohol'].plot(kind='bar')\n",
    "plt.ylabel('Mean alcohol')\n",
    "plt.title('Mean alcohol per quality rating')"
   ]
  },
  {
   "cell_type": "markdown",
   "metadata": {},
   "source": [
    "This bar chart seems to show that there is a slight positive relationship between the alcohol percentage and the wine's quality. This intuitively follows expectation as customers regularly prefer to by wines with a higher alcohol percentage and as a result they believe that the wines of higher alcohol percentage are of higher quality.\n",
    "\n",
    "In conclusion, it appears like the main factors affecting the quality of wine are:\n",
    "\n",
    "1) Volatile Acidity\n",
    "2) Citric Acid\n",
    "3) Chlorides\n",
    "4) Total Sulfur Dioxide\n",
    "5) Sulphates\n",
    "6) Alcohol\n",
    "\n",
    "## Inter Variable Relationships\n",
    "\n",
    "Let us now investigate the relationships between our variables, using a heatmap."
   ]
  },
  {
   "cell_type": "code",
   "execution_count": 55,
   "metadata": {},
   "outputs": [
    {
     "data": {
      "text/plain": [
       "<matplotlib.axes._subplots.AxesSubplot at 0x1b35c5cbf88>"
      ]
     },
     "execution_count": 55,
     "metadata": {},
     "output_type": "execute_result"
    },
    {
     "data": {
      "image/png": "[encoded data removed]",
      "text/plain": [
       "<Figure size 864x576 with 2 Axes>"
      ]
     },
     "metadata": {
      "needs_background": "light"
     },
     "output_type": "display_data"
    }
   ],
   "source": [
    "plt.figure(figsize=(12,8))\n",
    "sns.heatmap(df.corr(),annot=True)"
   ]
  },
  {
   "cell_type": "code",
   "execution_count": 58,
   "metadata": {},
   "outputs": [
    {
     "data": {
      "text/plain": [
       "1597"
      ]
     },
     "execution_count": 58,
     "metadata": {},
     "output_type": "execute_result"
    }
   ],
   "source": [
    "len(df[df['total sulfur dioxide'] >= df['free sulfur dioxide']])"
   ]
  },
  {
   "cell_type": "markdown",
   "metadata": {},
   "source": [
    "The heatmap above confirms the results from our earlier analysis as we are able to see large correlations between the variables listed above and the quality of the wine. We also notice some further relationsips between our variables.\n",
    "\n",
    "1. Total Sulfur Dioxide v Free Sulfur Dioxide - These two variables are highly correlated. We notice in all wines stored that the value of 'Total Sulfur Dioxide' is greater than or equal to the value of 'Free Sulfur Dioxide'. As a result, in order to reduce the risk of multicolinearity, we shall drop the 'Free Sulfur Dioxide' column, since the 'Total Sulfur Dioxide' has a stronger correlation to our target variable.\n",
    "2. Fixed Acidity v pH: Since the pH scale is used to describe how acidic or alkaline a fluid is, it makes sense that these two variables are correlated. \n",
    "3. Fixed Acidity v Density. Since these two variables are not considered as an important factor in determining the quality of wine, the relationship between them shall not be investigated.\n",
    "4. Fixed Acidity v Citric Acid. Naturally, the more citric acid a fluid contains, the higher its fixed acidity will be. As a result of points 2-4, we shall drop the 'Fixed Acidity' column from our dataset.\n",
    "\n",
    "Let us now drop the two columns mentioned above from our dataset as we have deemed them to not be determining factors within the quality of red wine. "
   ]
  },
  {
   "cell_type": "code",
   "execution_count": 59,
   "metadata": {},
   "outputs": [],
   "source": [
    "df = df.drop(['free sulfur dioxide','fixed acidity'],axis=1)"
   ]
  },
  {
   "cell_type": "code",
   "execution_count": 60,
   "metadata": {},
   "outputs": [
    {
     "data": {
      "text/html": [
       "<div>\n",
       "<style scoped>\n",
       "    .dataframe tbody tr th:only-of-type {\n",
       "        vertical-align: middle;\n",
       "    }\n",
       "\n",
       "    .dataframe tbody tr th {\n",
       "        vertical-align: top;\n",
       "    }\n",
       "\n",
       "    .dataframe thead th {\n",
       "        text-align: right;\n",
       "    }\n",
       "</style>\n",
       "<table border=\"1\" class=\"dataframe\">\n",
       "  <thead>\n",
       "    <tr style=\"text-align: right;\">\n",
       "      <th></th>\n",
       "      <th>volatile acidity</th>\n",
       "      <th>citric acid</th>\n",
       "      <th>residual sugar</th>\n",
       "      <th>chlorides</th>\n",
       "      <th>total sulfur dioxide</th>\n",
       "      <th>density</th>\n",
       "      <th>pH</th>\n",
       "      <th>sulphates</th>\n",
       "      <th>alcohol</th>\n",
       "      <th>quality</th>\n",
       "    </tr>\n",
       "  </thead>\n",
       "  <tbody>\n",
       "    <tr>\n",
       "      <th>0</th>\n",
       "      <td>0.70</td>\n",
       "      <td>0.00</td>\n",
       "      <td>1.9</td>\n",
       "      <td>0.076</td>\n",
       "      <td>34.0</td>\n",
       "      <td>0.9978</td>\n",
       "      <td>3.51</td>\n",
       "      <td>0.56</td>\n",
       "      <td>9.4</td>\n",
       "      <td>5</td>\n",
       "    </tr>\n",
       "    <tr>\n",
       "      <th>1</th>\n",
       "      <td>0.88</td>\n",
       "      <td>0.00</td>\n",
       "      <td>2.6</td>\n",
       "      <td>0.098</td>\n",
       "      <td>67.0</td>\n",
       "      <td>0.9968</td>\n",
       "      <td>3.20</td>\n",
       "      <td>0.68</td>\n",
       "      <td>9.8</td>\n",
       "      <td>5</td>\n",
       "    </tr>\n",
       "    <tr>\n",
       "      <th>2</th>\n",
       "      <td>0.76</td>\n",
       "      <td>0.04</td>\n",
       "      <td>2.3</td>\n",
       "      <td>0.092</td>\n",
       "      <td>54.0</td>\n",
       "      <td>0.9970</td>\n",
       "      <td>3.26</td>\n",
       "      <td>0.65</td>\n",
       "      <td>9.8</td>\n",
       "      <td>5</td>\n",
       "    </tr>\n",
       "    <tr>\n",
       "      <th>3</th>\n",
       "      <td>0.28</td>\n",
       "      <td>0.56</td>\n",
       "      <td>1.9</td>\n",
       "      <td>0.075</td>\n",
       "      <td>60.0</td>\n",
       "      <td>0.9980</td>\n",
       "      <td>3.16</td>\n",
       "      <td>0.58</td>\n",
       "      <td>9.8</td>\n",
       "      <td>6</td>\n",
       "    </tr>\n",
       "    <tr>\n",
       "      <th>4</th>\n",
       "      <td>0.70</td>\n",
       "      <td>0.00</td>\n",
       "      <td>1.9</td>\n",
       "      <td>0.076</td>\n",
       "      <td>34.0</td>\n",
       "      <td>0.9978</td>\n",
       "      <td>3.51</td>\n",
       "      <td>0.56</td>\n",
       "      <td>9.4</td>\n",
       "      <td>5</td>\n",
       "    </tr>\n",
       "  </tbody>\n",
       "</table>\n",
       "</div>"
      ],
      "text/plain": [
       "   volatile acidity  citric acid  residual sugar  chlorides  \\\n",
       "0              0.70         0.00             1.9      0.076   \n",
       "1              0.88         0.00             2.6      0.098   \n",
       "2              0.76         0.04             2.3      0.092   \n",
       "3              0.28         0.56             1.9      0.075   \n",
       "4              0.70         0.00             1.9      0.076   \n",
       "\n",
       "   total sulfur dioxide  density    pH  sulphates  alcohol  quality  \n",
       "0                  34.0   0.9978  3.51       0.56      9.4        5  \n",
       "1                  67.0   0.9968  3.20       0.68      9.8        5  \n",
       "2                  54.0   0.9970  3.26       0.65      9.8        5  \n",
       "3                  60.0   0.9980  3.16       0.58      9.8        6  \n",
       "4                  34.0   0.9978  3.51       0.56      9.4        5  "
      ]
     },
     "execution_count": 60,
     "metadata": {},
     "output_type": "execute_result"
    }
   ],
   "source": [
    "df.head()"
   ]
  },
  {
   "cell_type": "markdown",
   "metadata": {},
   "source": [
    "## Investigating the distribution of Quality Classes\n",
    "\n",
    "Since we are performing a classification task, it is useful to know how our dataset splits into the various quality classes."
   ]
  },
  {
   "cell_type": "code",
   "execution_count": 61,
   "metadata": {},
   "outputs": [
    {
     "data": {
      "text/plain": [
       "<matplotlib.axes._subplots.AxesSubplot at 0x1b35d9a9f88>"
      ]
     },
     "execution_count": 61,
     "metadata": {},
     "output_type": "execute_result"
    },
    {
     "data": {
      "image/png": "[encoded data removed]",
      "text/plain": [
       "<Figure size 432x288 with 1 Axes>"
      ]
     },
     "metadata": {
      "needs_background": "light"
     },
     "output_type": "display_data"
    }
   ],
   "source": [
    "sns.countplot(x='quality',data=df)"
   ]
  },
  {
   "cell_type": "code",
   "execution_count": 66,
   "metadata": {},
   "outputs": [
    {
     "data": {
      "text/plain": [
       "quality\n",
       "3     0.626174\n",
       "4     3.318723\n",
       "5    42.642455\n",
       "6    39.949906\n",
       "7    12.335629\n",
       "8     1.127113\n",
       "Name: pH, dtype: float64"
      ]
     },
     "execution_count": 66,
     "metadata": {},
     "output_type": "execute_result"
    }
   ],
   "source": [
    "df.groupby('quality').count()['pH'] * 100 /len(df)"
   ]
  },
  {
   "cell_type": "markdown",
   "metadata": {},
   "source": [
    "The dataset we are considering is extremely unbalanced, with over 80% of the dataset falling within two of the six possible quality ratings. However, if we consider wines that have a quality rating of 5 and under as 'bad' and wines with a quality rating of 6 and above as 'good' we get a more balanced dataset."
   ]
  },
  {
   "cell_type": "code",
   "execution_count": 85,
   "metadata": {},
   "outputs": [],
   "source": [
    "df['new_rating'] = df['quality'].apply(lambda x: 1 if x >= 6 else 0)"
   ]
  },
  {
   "cell_type": "code",
   "execution_count": 87,
   "metadata": {},
   "outputs": [
    {
     "data": {
      "text/plain": [
       "1    53.412649\n",
       "0    46.587351\n",
       "Name: new_rating, dtype: float64"
      ]
     },
     "execution_count": 87,
     "metadata": {},
     "output_type": "execute_result"
    }
   ],
   "source": [
    "df['new_rating'].value_counts() * 100 / len(df)"
   ]
  },
  {
   "cell_type": "code",
   "execution_count": 88,
   "metadata": {},
   "outputs": [],
   "source": [
    "df = df.drop('quality',axis=1)"
   ]
  },
  {
   "cell_type": "markdown",
   "metadata": {},
   "source": [
    "Let us now create training and test sets for our data."
   ]
  },
  {
   "cell_type": "code",
   "execution_count": 89,
   "metadata": {},
   "outputs": [],
   "source": [
    "from sklearn.model_selection import train_test_split\n",
    "X = df.drop('new_rating',axis=1)\n",
    "y = df['new_rating']\n",
    "X_train, X_test, y_train, y_test = train_test_split(X,y,test_size=0.3,random_state=101)"
   ]
  },
  {
   "cell_type": "markdown",
   "metadata": {},
   "source": [
    "## Model Training and Testing\n",
    "\n",
    "Let us now begin to train some models and determine the best model at predicting the quality of wine.\n",
    "\n",
    "### Logistic Regression"
   ]
  },
  {
   "cell_type": "code",
   "execution_count": 93,
   "metadata": {},
   "outputs": [],
   "source": [
    "from sklearn.linear_model import LogisticRegression"
   ]
  },
  {
   "cell_type": "code",
   "execution_count": 96,
   "metadata": {},
   "outputs": [],
   "source": [
    "lr_model = LogisticRegression(max_iter=2000)"
   ]
  },
  {
   "cell_type": "code",
   "execution_count": 97,
   "metadata": {},
   "outputs": [
    {
     "data": {
      "text/plain": [
       "LogisticRegression(C=1.0, class_weight=None, dual=False, fit_intercept=True,\n",
       "                   intercept_scaling=1, l1_ratio=None, max_iter=2000,\n",
       "                   multi_class='auto', n_jobs=None, penalty='l2',\n",
       "                   random_state=None, solver='lbfgs', tol=0.0001, verbose=0,\n",
       "                   warm_start=False)"
      ]
     },
     "execution_count": 97,
     "metadata": {},
     "output_type": "execute_result"
    }
   ],
   "source": [
    "lr_model.fit(X_train, y_train)"
   ]
  },
  {
   "cell_type": "markdown",
   "metadata": {},
   "source": [
    "#### Generate Predictions"
   ]
  },
  {
   "cell_type": "code",
   "execution_count": 98,
   "metadata": {},
   "outputs": [],
   "source": [
    "lr_predictions = lr_model.predict(X_test)"
   ]
  },
  {
   "cell_type": "markdown",
   "metadata": {},
   "source": [
    "#### Confusion Matrix and Classification Report"
   ]
  },
  {
   "cell_type": "code",
   "execution_count": 99,
   "metadata": {},
   "outputs": [],
   "source": [
    "from sklearn.metrics import confusion_matrix,classification_report"
   ]
  },
  {
   "cell_type": "code",
   "execution_count": 100,
   "metadata": {},
   "outputs": [
    {
     "name": "stdout",
     "output_type": "stream",
     "text": [
      "[[171  72]\n",
      " [ 55 182]]\n"
     ]
    }
   ],
   "source": [
    "print(confusion_matrix(y_test, lr_predictions))"
   ]
  },
  {
   "cell_type": "code",
   "execution_count": 101,
   "metadata": {},
   "outputs": [
    {
     "name": "stdout",
     "output_type": "stream",
     "text": [
      "              precision    recall  f1-score   support\n",
      "\n",
      "           0       0.76      0.70      0.73       243\n",
      "           1       0.72      0.77      0.74       237\n",
      "\n",
      "    accuracy                           0.74       480\n",
      "   macro avg       0.74      0.74      0.74       480\n",
      "weighted avg       0.74      0.74      0.74       480\n",
      "\n"
     ]
    }
   ],
   "source": [
    "print(classification_report(y_test,lr_predictions))"
   ]
  },
  {
   "cell_type": "markdown",
   "metadata": {},
   "source": [
    "Our logistic regression model acheived an accuracy of approximately 74%.\n",
    "\n",
    "### Decision Tree"
   ]
  },
  {
   "cell_type": "code",
   "execution_count": 102,
   "metadata": {},
   "outputs": [],
   "source": [
    "from sklearn.tree import DecisionTreeClassifier"
   ]
  },
  {
   "cell_type": "code",
   "execution_count": 103,
   "metadata": {},
   "outputs": [],
   "source": [
    "dtree = DecisionTreeClassifier()"
   ]
  },
  {
   "cell_type": "code",
   "execution_count": 104,
   "metadata": {},
   "outputs": [
    {
     "data": {
      "text/plain": [
       "DecisionTreeClassifier(ccp_alpha=0.0, class_weight=None, criterion='gini',\n",
       "                       max_depth=None, max_features=None, max_leaf_nodes=None,\n",
       "                       min_impurity_decrease=0.0, min_impurity_split=None,\n",
       "                       min_samples_leaf=1, min_samples_split=2,\n",
       "                       min_weight_fraction_leaf=0.0, presort='deprecated',\n",
       "                       random_state=None, splitter='best')"
      ]
     },
     "execution_count": 104,
     "metadata": {},
     "output_type": "execute_result"
    }
   ],
   "source": [
    "dtree.fit(X_train, y_train)"
   ]
  },
  {
   "cell_type": "markdown",
   "metadata": {},
   "source": [
    "#### Generate Predictions"
   ]
  },
  {
   "cell_type": "code",
   "execution_count": 105,
   "metadata": {},
   "outputs": [],
   "source": [
    "dtree_preds = dtree.predict(X_test)"
   ]
  },
  {
   "cell_type": "markdown",
   "metadata": {},
   "source": [
    "#### Confusion Matrix and Classification Report"
   ]
  },
  {
   "cell_type": "code",
   "execution_count": 106,
   "metadata": {},
   "outputs": [
    {
     "name": "stdout",
     "output_type": "stream",
     "text": [
      "[[164  79]\n",
      " [ 56 181]]\n"
     ]
    }
   ],
   "source": [
    "print(confusion_matrix(y_test,dtree_preds))"
   ]
  },
  {
   "cell_type": "code",
   "execution_count": 107,
   "metadata": {},
   "outputs": [
    {
     "name": "stdout",
     "output_type": "stream",
     "text": [
      "              precision    recall  f1-score   support\n",
      "\n",
      "           0       0.75      0.67      0.71       243\n",
      "           1       0.70      0.76      0.73       237\n",
      "\n",
      "    accuracy                           0.72       480\n",
      "   macro avg       0.72      0.72      0.72       480\n",
      "weighted avg       0.72      0.72      0.72       480\n",
      "\n"
     ]
    }
   ],
   "source": [
    "print(classification_report(y_test,dtree_preds))"
   ]
  },
  {
   "cell_type": "markdown",
   "metadata": {},
   "source": [
    "Our decision tree model achieved an accuracy of about 72%.\n",
    "\n",
    "### Random Forests"
   ]
  },
  {
   "cell_type": "code",
   "execution_count": 108,
   "metadata": {},
   "outputs": [
    {
     "data": {
      "text/plain": [
       "RandomForestClassifier(bootstrap=True, ccp_alpha=0.0, class_weight=None,\n",
       "                       criterion='gini', max_depth=None, max_features='auto',\n",
       "                       max_leaf_nodes=None, max_samples=None,\n",
       "                       min_impurity_decrease=0.0, min_impurity_split=None,\n",
       "                       min_samples_leaf=1, min_samples_split=2,\n",
       "                       min_weight_fraction_leaf=0.0, n_estimators=100,\n",
       "                       n_jobs=None, oob_score=False, random_state=None,\n",
       "                       verbose=0, warm_start=False)"
      ]
     },
     "execution_count": 108,
     "metadata": {},
     "output_type": "execute_result"
    }
   ],
   "source": [
    "from sklearn.ensemble import RandomForestClassifier\n",
    "rfc = RandomForestClassifier(n_estimators=100)\n",
    "rfc.fit(X_train, y_train)"
   ]
  },
  {
   "cell_type": "markdown",
   "metadata": {},
   "source": [
    "#### Generate Predicitons"
   ]
  },
  {
   "cell_type": "code",
   "execution_count": 109,
   "metadata": {},
   "outputs": [],
   "source": [
    "rfc_preds = rfc.predict(X_test)"
   ]
  },
  {
   "cell_type": "markdown",
   "metadata": {},
   "source": [
    "#### Confusion Matrix and Classification Report"
   ]
  },
  {
   "cell_type": "code",
   "execution_count": 110,
   "metadata": {},
   "outputs": [
    {
     "name": "stdout",
     "output_type": "stream",
     "text": [
      "[[187  56]\n",
      " [ 39 198]]\n"
     ]
    }
   ],
   "source": [
    "print(confusion_matrix(y_test,rfc_preds))"
   ]
  },
  {
   "cell_type": "code",
   "execution_count": 111,
   "metadata": {},
   "outputs": [
    {
     "name": "stdout",
     "output_type": "stream",
     "text": [
      "              precision    recall  f1-score   support\n",
      "\n",
      "           0       0.83      0.77      0.80       243\n",
      "           1       0.78      0.84      0.81       237\n",
      "\n",
      "    accuracy                           0.80       480\n",
      "   macro avg       0.80      0.80      0.80       480\n",
      "weighted avg       0.80      0.80      0.80       480\n",
      "\n"
     ]
    }
   ],
   "source": [
    "print(classification_report(y_test,rfc_preds))"
   ]
  },
  {
   "cell_type": "markdown",
   "metadata": {},
   "source": [
    "Our random forest classifier managed to achieve an accuracy of 80%.\n",
    "\n",
    "### Support Vector Machines"
   ]
  },
  {
   "cell_type": "code",
   "execution_count": 113,
   "metadata": {},
   "outputs": [],
   "source": [
    "from sklearn.svm import SVC"
   ]
  },
  {
   "cell_type": "code",
   "execution_count": 114,
   "metadata": {},
   "outputs": [],
   "source": [
    "svc = SVC()"
   ]
  },
  {
   "cell_type": "code",
   "execution_count": 115,
   "metadata": {},
   "outputs": [
    {
     "data": {
      "text/plain": [
       "SVC(C=1.0, break_ties=False, cache_size=200, class_weight=None, coef0=0.0,\n",
       "    decision_function_shape='ovr', degree=3, gamma='scale', kernel='rbf',\n",
       "    max_iter=-1, probability=False, random_state=None, shrinking=True,\n",
       "    tol=0.001, verbose=False)"
      ]
     },
     "execution_count": 115,
     "metadata": {},
     "output_type": "execute_result"
    }
   ],
   "source": [
    "svc.fit(X_train, y_train)"
   ]
  },
  {
   "cell_type": "markdown",
   "metadata": {},
   "source": [
    "#### Generate Predictions"
   ]
  },
  {
   "cell_type": "code",
   "execution_count": 116,
   "metadata": {},
   "outputs": [],
   "source": [
    "svc_preds = svc.predict(X_test)"
   ]
  },
  {
   "cell_type": "markdown",
   "metadata": {},
   "source": [
    "#### Confusion Matrix and Classification Report"
   ]
  },
  {
   "cell_type": "code",
   "execution_count": 117,
   "metadata": {},
   "outputs": [
    {
     "name": "stdout",
     "output_type": "stream",
     "text": [
      "[[ 68 175]\n",
      " [ 39 198]]\n"
     ]
    }
   ],
   "source": [
    "print(confusion_matrix(y_test,svc_preds))"
   ]
  },
  {
   "cell_type": "code",
   "execution_count": 118,
   "metadata": {},
   "outputs": [
    {
     "name": "stdout",
     "output_type": "stream",
     "text": [
      "              precision    recall  f1-score   support\n",
      "\n",
      "           0       0.64      0.28      0.39       243\n",
      "           1       0.53      0.84      0.65       237\n",
      "\n",
      "    accuracy                           0.55       480\n",
      "   macro avg       0.58      0.56      0.52       480\n",
      "weighted avg       0.58      0.55      0.52       480\n",
      "\n"
     ]
    }
   ],
   "source": [
    "print(classification_report(y_test,svc_preds))"
   ]
  },
  {
   "cell_type": "markdown",
   "metadata": {},
   "source": [
    "Our SVC model achieved an accuracy of 55%. However, let us use a grid search in order to try and alter the models paramaters to achieve a better accuracy."
   ]
  },
  {
   "cell_type": "code",
   "execution_count": 119,
   "metadata": {},
   "outputs": [
    {
     "name": "stdout",
     "output_type": "stream",
     "text": [
      "Fitting 5 folds for each of 25 candidates, totalling 125 fits\n",
      "[CV] C=0.1, gamma=1, kernel=rbf ......................................\n"
     ]
    },
    {
     "name": "stderr",
     "output_type": "stream",
     "text": [
      "[Parallel(n_jobs=1)]: Using backend SequentialBackend with 1 concurrent workers.\n"
     ]
    },
    {
     "name": "stdout",
     "output_type": "stream",
     "text": [
      "[CV] .......... C=0.1, gamma=1, kernel=rbf, score=0.554, total=   0.3s\n",
      "[CV] C=0.1, gamma=1, kernel=rbf ......................................\n"
     ]
    },
    {
     "name": "stderr",
     "output_type": "stream",
     "text": [
      "[Parallel(n_jobs=1)]: Done   1 out of   1 | elapsed:    0.2s remaining:    0.0s\n"
     ]
    },
    {
     "name": "stdout",
     "output_type": "stream",
     "text": [
      "[CV] .......... C=0.1, gamma=1, kernel=rbf, score=0.549, total=   0.3s\n",
      "[CV] C=0.1, gamma=1, kernel=rbf ......................................\n"
     ]
    },
    {
     "name": "stderr",
     "output_type": "stream",
     "text": [
      "[Parallel(n_jobs=1)]: Done   2 out of   2 | elapsed:    0.4s remaining:    0.0s\n"
     ]
    },
    {
     "name": "stdout",
     "output_type": "stream",
     "text": [
      "[CV] .......... C=0.1, gamma=1, kernel=rbf, score=0.552, total=   0.3s\n",
      "[CV] C=0.1, gamma=1, kernel=rbf ......................................\n",
      "[CV] .......... C=0.1, gamma=1, kernel=rbf, score=0.552, total=   0.3s\n",
      "[CV] C=0.1, gamma=1, kernel=rbf ......................................\n",
      "[CV] .......... C=0.1, gamma=1, kernel=rbf, score=0.552, total=   0.3s\n",
      "[CV] C=0.1, gamma=0.1, kernel=rbf ....................................\n",
      "[CV] ........ C=0.1, gamma=0.1, kernel=rbf, score=0.647, total=   0.2s\n",
      "[CV] C=0.1, gamma=0.1, kernel=rbf ....................................\n",
      "[CV] ........ C=0.1, gamma=0.1, kernel=rbf, score=0.661, total=   0.2s\n",
      "[CV] C=0.1, gamma=0.1, kernel=rbf ....................................\n",
      "[CV] ........ C=0.1, gamma=0.1, kernel=rbf, score=0.628, total=   0.2s\n",
      "[CV] C=0.1, gamma=0.1, kernel=rbf ....................................\n",
      "[CV] ........ C=0.1, gamma=0.1, kernel=rbf, score=0.641, total=   0.3s\n",
      "[CV] C=0.1, gamma=0.1, kernel=rbf ....................................\n",
      "[CV] ........ C=0.1, gamma=0.1, kernel=rbf, score=0.682, total=   0.2s\n",
      "[CV] C=0.1, gamma=0.01, kernel=rbf ...................................\n",
      "[CV] ....... C=0.1, gamma=0.01, kernel=rbf, score=0.652, total=   0.2s\n",
      "[CV] C=0.1, gamma=0.01, kernel=rbf ...................................\n",
      "[CV] ....... C=0.1, gamma=0.01, kernel=rbf, score=0.692, total=   0.2s\n",
      "[CV] C=0.1, gamma=0.01, kernel=rbf ...................................\n",
      "[CV] ....... C=0.1, gamma=0.01, kernel=rbf, score=0.596, total=   0.1s\n",
      "[CV] C=0.1, gamma=0.01, kernel=rbf ...................................\n",
      "[CV] ....... C=0.1, gamma=0.01, kernel=rbf, score=0.646, total=   0.1s\n",
      "[CV] C=0.1, gamma=0.01, kernel=rbf ...................................\n",
      "[CV] ....... C=0.1, gamma=0.01, kernel=rbf, score=0.646, total=   0.1s\n",
      "[CV] C=0.1, gamma=0.001, kernel=rbf ..................................\n",
      "[CV] ...... C=0.1, gamma=0.001, kernel=rbf, score=0.638, total=   0.1s\n",
      "[CV] C=0.1, gamma=0.001, kernel=rbf ..................................\n",
      "[CV] ...... C=0.1, gamma=0.001, kernel=rbf, score=0.665, total=   0.1s\n",
      "[CV] C=0.1, gamma=0.001, kernel=rbf ..................................\n",
      "[CV] ...... C=0.1, gamma=0.001, kernel=rbf, score=0.596, total=   0.1s\n",
      "[CV] C=0.1, gamma=0.001, kernel=rbf ..................................\n",
      "[CV] ...... C=0.1, gamma=0.001, kernel=rbf, score=0.655, total=   0.1s\n",
      "[CV] C=0.1, gamma=0.001, kernel=rbf ..................................\n",
      "[CV] ...... C=0.1, gamma=0.001, kernel=rbf, score=0.664, total=   0.1s\n",
      "[CV] C=0.1, gamma=0.0001, kernel=rbf .................................\n",
      "[CV] ..... C=0.1, gamma=0.0001, kernel=rbf, score=0.612, total=   0.1s\n",
      "[CV] C=0.1, gamma=0.0001, kernel=rbf .................................\n",
      "[CV] ..... C=0.1, gamma=0.0001, kernel=rbf, score=0.656, total=   0.1s\n",
      "[CV] C=0.1, gamma=0.0001, kernel=rbf .................................\n",
      "[CV] ..... C=0.1, gamma=0.0001, kernel=rbf, score=0.596, total=   0.1s\n",
      "[CV] C=0.1, gamma=0.0001, kernel=rbf .................................\n",
      "[CV] ..... C=0.1, gamma=0.0001, kernel=rbf, score=0.646, total=   0.2s\n",
      "[CV] C=0.1, gamma=0.0001, kernel=rbf .................................\n",
      "[CV] ..... C=0.1, gamma=0.0001, kernel=rbf, score=0.655, total=   0.1s\n",
      "[CV] C=1, gamma=1, kernel=rbf ........................................\n",
      "[CV] ............ C=1, gamma=1, kernel=rbf, score=0.670, total=   0.3s\n",
      "[CV] C=1, gamma=1, kernel=rbf ........................................\n",
      "[CV] ............ C=1, gamma=1, kernel=rbf, score=0.741, total=   0.3s\n",
      "[CV] C=1, gamma=1, kernel=rbf ........................................\n",
      "[CV] ............ C=1, gamma=1, kernel=rbf, score=0.700, total=   0.4s\n",
      "[CV] C=1, gamma=1, kernel=rbf ........................................\n",
      "[CV] ............ C=1, gamma=1, kernel=rbf, score=0.686, total=   0.3s\n",
      "[CV] C=1, gamma=1, kernel=rbf ........................................\n",
      "[CV] ............ C=1, gamma=1, kernel=rbf, score=0.704, total=   0.2s\n",
      "[CV] C=1, gamma=0.1, kernel=rbf ......................................\n",
      "[CV] .......... C=1, gamma=0.1, kernel=rbf, score=0.746, total=   0.2s\n",
      "[CV] C=1, gamma=0.1, kernel=rbf ......................................\n",
      "[CV] .......... C=1, gamma=0.1, kernel=rbf, score=0.763, total=   0.2s\n",
      "[CV] C=1, gamma=0.1, kernel=rbf ......................................\n",
      "[CV] .......... C=1, gamma=0.1, kernel=rbf, score=0.682, total=   0.1s\n",
      "[CV] C=1, gamma=0.1, kernel=rbf ......................................\n",
      "[CV] .......... C=1, gamma=0.1, kernel=rbf, score=0.668, total=   0.1s\n",
      "[CV] C=1, gamma=0.1, kernel=rbf ......................................\n",
      "[CV] .......... C=1, gamma=0.1, kernel=rbf, score=0.668, total=   0.3s\n",
      "[CV] C=1, gamma=0.01, kernel=rbf .....................................\n",
      "[CV] ......... C=1, gamma=0.01, kernel=rbf, score=0.656, total=   0.2s\n",
      "[CV] C=1, gamma=0.01, kernel=rbf .....................................\n",
      "[CV] ......... C=1, gamma=0.01, kernel=rbf, score=0.696, total=   0.2s\n",
      "[CV] C=1, gamma=0.01, kernel=rbf .....................................\n",
      "[CV] ......... C=1, gamma=0.01, kernel=rbf, score=0.619, total=   0.1s\n",
      "[CV] C=1, gamma=0.01, kernel=rbf .....................................\n",
      "[CV] ......... C=1, gamma=0.01, kernel=rbf, score=0.659, total=   0.1s\n",
      "[CV] C=1, gamma=0.01, kernel=rbf .....................................\n",
      "[CV] ......... C=1, gamma=0.01, kernel=rbf, score=0.650, total=   0.2s\n",
      "[CV] C=1, gamma=0.001, kernel=rbf ....................................\n",
      "[CV] ........ C=1, gamma=0.001, kernel=rbf, score=0.638, total=   0.2s\n",
      "[CV] C=1, gamma=0.001, kernel=rbf ....................................\n",
      "[CV] ........ C=1, gamma=0.001, kernel=rbf, score=0.688, total=   0.1s\n",
      "[CV] C=1, gamma=0.001, kernel=rbf ....................................\n",
      "[CV] ........ C=1, gamma=0.001, kernel=rbf, score=0.592, total=   0.1s\n",
      "[CV] C=1, gamma=0.001, kernel=rbf ....................................\n",
      "[CV] ........ C=1, gamma=0.001, kernel=rbf, score=0.650, total=   0.2s\n",
      "[CV] C=1, gamma=0.001, kernel=rbf ....................................\n",
      "[CV] ........ C=1, gamma=0.001, kernel=rbf, score=0.664, total=   0.2s\n",
      "[CV] C=1, gamma=0.0001, kernel=rbf ...................................\n",
      "[CV] ....... C=1, gamma=0.0001, kernel=rbf, score=0.612, total=   0.1s\n",
      "[CV] C=1, gamma=0.0001, kernel=rbf ...................................\n",
      "[CV] ....... C=1, gamma=0.0001, kernel=rbf, score=0.661, total=   0.1s\n",
      "[CV] C=1, gamma=0.0001, kernel=rbf ...................................\n",
      "[CV] ....... C=1, gamma=0.0001, kernel=rbf, score=0.592, total=   0.2s\n",
      "[CV] C=1, gamma=0.0001, kernel=rbf ...................................\n",
      "[CV] ....... C=1, gamma=0.0001, kernel=rbf, score=0.646, total=   0.1s\n",
      "[CV] C=1, gamma=0.0001, kernel=rbf ...................................\n",
      "[CV] ....... C=1, gamma=0.0001, kernel=rbf, score=0.664, total=   0.1s\n",
      "[CV] C=10, gamma=1, kernel=rbf .......................................\n",
      "[CV] ........... C=10, gamma=1, kernel=rbf, score=0.647, total=   0.4s\n",
      "[CV] C=10, gamma=1, kernel=rbf .......................................\n",
      "[CV] ........... C=10, gamma=1, kernel=rbf, score=0.714, total=   0.7s\n",
      "[CV] C=10, gamma=1, kernel=rbf .......................................\n",
      "[CV] ........... C=10, gamma=1, kernel=rbf, score=0.722, total=   0.3s\n",
      "[CV] C=10, gamma=1, kernel=rbf .......................................\n",
      "[CV] ........... C=10, gamma=1, kernel=rbf, score=0.740, total=   0.3s\n",
      "[CV] C=10, gamma=1, kernel=rbf .......................................\n",
      "[CV] ........... C=10, gamma=1, kernel=rbf, score=0.740, total=   0.4s\n",
      "[CV] C=10, gamma=0.1, kernel=rbf .....................................\n",
      "[CV] ......... C=10, gamma=0.1, kernel=rbf, score=0.710, total=   0.2s\n",
      "[CV] C=10, gamma=0.1, kernel=rbf .....................................\n",
      "[CV] ......... C=10, gamma=0.1, kernel=rbf, score=0.777, total=   0.3s\n",
      "[CV] C=10, gamma=0.1, kernel=rbf .....................................\n",
      "[CV] ......... C=10, gamma=0.1, kernel=rbf, score=0.726, total=   0.2s\n",
      "[CV] C=10, gamma=0.1, kernel=rbf .....................................\n",
      "[CV] ......... C=10, gamma=0.1, kernel=rbf, score=0.713, total=   0.3s\n",
      "[CV] C=10, gamma=0.1, kernel=rbf .....................................\n",
      "[CV] ......... C=10, gamma=0.1, kernel=rbf, score=0.717, total=   0.2s\n",
      "[CV] C=10, gamma=0.01, kernel=rbf ....................................\n"
     ]
    },
    {
     "name": "stdout",
     "output_type": "stream",
     "text": [
      "[CV] ........ C=10, gamma=0.01, kernel=rbf, score=0.772, total=   0.3s\n",
      "[CV] C=10, gamma=0.01, kernel=rbf ....................................\n",
      "[CV] ........ C=10, gamma=0.01, kernel=rbf, score=0.786, total=   0.2s\n",
      "[CV] C=10, gamma=0.01, kernel=rbf ....................................\n",
      "[CV] ........ C=10, gamma=0.01, kernel=rbf, score=0.691, total=   0.2s\n",
      "[CV] C=10, gamma=0.01, kernel=rbf ....................................\n",
      "[CV] ........ C=10, gamma=0.01, kernel=rbf, score=0.709, total=   0.2s\n",
      "[CV] C=10, gamma=0.01, kernel=rbf ....................................\n",
      "[CV] ........ C=10, gamma=0.01, kernel=rbf, score=0.686, total=   0.2s\n",
      "[CV] C=10, gamma=0.001, kernel=rbf ...................................\n",
      "[CV] ....... C=10, gamma=0.001, kernel=rbf, score=0.692, total=   0.1s\n",
      "[CV] C=10, gamma=0.001, kernel=rbf ...................................\n",
      "[CV] ....... C=10, gamma=0.001, kernel=rbf, score=0.719, total=   0.2s\n",
      "[CV] C=10, gamma=0.001, kernel=rbf ...................................\n",
      "[CV] ....... C=10, gamma=0.001, kernel=rbf, score=0.637, total=   0.2s\n",
      "[CV] C=10, gamma=0.001, kernel=rbf ...................................\n",
      "[CV] ....... C=10, gamma=0.001, kernel=rbf, score=0.682, total=   0.1s\n",
      "[CV] C=10, gamma=0.001, kernel=rbf ...................................\n",
      "[CV] ....... C=10, gamma=0.001, kernel=rbf, score=0.695, total=   0.2s\n",
      "[CV] C=10, gamma=0.0001, kernel=rbf ..................................\n",
      "[CV] ...... C=10, gamma=0.0001, kernel=rbf, score=0.647, total=   0.2s\n",
      "[CV] C=10, gamma=0.0001, kernel=rbf ..................................\n",
      "[CV] ...... C=10, gamma=0.0001, kernel=rbf, score=0.696, total=   0.1s\n",
      "[CV] C=10, gamma=0.0001, kernel=rbf ..................................\n",
      "[CV] ...... C=10, gamma=0.0001, kernel=rbf, score=0.601, total=   0.2s\n",
      "[CV] C=10, gamma=0.0001, kernel=rbf ..................................\n",
      "[CV] ...... C=10, gamma=0.0001, kernel=rbf, score=0.673, total=   0.2s\n",
      "[CV] C=10, gamma=0.0001, kernel=rbf ..................................\n",
      "[CV] ...... C=10, gamma=0.0001, kernel=rbf, score=0.682, total=   0.1s\n",
      "[CV] C=100, gamma=1, kernel=rbf ......................................\n",
      "[CV] .......... C=100, gamma=1, kernel=rbf, score=0.643, total=   0.5s\n",
      "[CV] C=100, gamma=1, kernel=rbf ......................................\n",
      "[CV] .......... C=100, gamma=1, kernel=rbf, score=0.705, total=   0.6s\n",
      "[CV] C=100, gamma=1, kernel=rbf ......................................\n",
      "[CV] .......... C=100, gamma=1, kernel=rbf, score=0.722, total=   0.4s\n",
      "[CV] C=100, gamma=1, kernel=rbf ......................................\n",
      "[CV] .......... C=100, gamma=1, kernel=rbf, score=0.758, total=   0.4s\n",
      "[CV] C=100, gamma=1, kernel=rbf ......................................\n",
      "[CV] .......... C=100, gamma=1, kernel=rbf, score=0.744, total=   0.3s\n",
      "[CV] C=100, gamma=0.1, kernel=rbf ....................................\n",
      "[CV] ........ C=100, gamma=0.1, kernel=rbf, score=0.719, total=   0.4s\n",
      "[CV] C=100, gamma=0.1, kernel=rbf ....................................\n",
      "[CV] ........ C=100, gamma=0.1, kernel=rbf, score=0.763, total=   0.5s\n",
      "[CV] C=100, gamma=0.1, kernel=rbf ....................................\n",
      "[CV] ........ C=100, gamma=0.1, kernel=rbf, score=0.735, total=   0.5s\n",
      "[CV] C=100, gamma=0.1, kernel=rbf ....................................\n",
      "[CV] ........ C=100, gamma=0.1, kernel=rbf, score=0.704, total=   0.6s\n",
      "[CV] C=100, gamma=0.1, kernel=rbf ....................................\n",
      "[CV] ........ C=100, gamma=0.1, kernel=rbf, score=0.753, total=   0.5s\n",
      "[CV] C=100, gamma=0.01, kernel=rbf ...................................\n",
      "[CV] ....... C=100, gamma=0.01, kernel=rbf, score=0.728, total=   0.3s\n",
      "[CV] C=100, gamma=0.01, kernel=rbf ...................................\n",
      "[CV] ....... C=100, gamma=0.01, kernel=rbf, score=0.817, total=   0.3s\n",
      "[CV] C=100, gamma=0.01, kernel=rbf ...................................\n",
      "[CV] ....... C=100, gamma=0.01, kernel=rbf, score=0.726, total=   0.3s\n",
      "[CV] C=100, gamma=0.01, kernel=rbf ...................................\n",
      "[CV] ....... C=100, gamma=0.01, kernel=rbf, score=0.695, total=   0.2s\n",
      "[CV] C=100, gamma=0.01, kernel=rbf ...................................\n",
      "[CV] ....... C=100, gamma=0.01, kernel=rbf, score=0.758, total=   0.3s\n",
      "[CV] C=100, gamma=0.001, kernel=rbf ..................................\n",
      "[CV] ...... C=100, gamma=0.001, kernel=rbf, score=0.759, total=   0.2s\n",
      "[CV] C=100, gamma=0.001, kernel=rbf ..................................\n",
      "[CV] ...... C=100, gamma=0.001, kernel=rbf, score=0.812, total=   0.2s\n",
      "[CV] C=100, gamma=0.001, kernel=rbf ..................................\n",
      "[CV] ...... C=100, gamma=0.001, kernel=rbf, score=0.735, total=   0.1s\n",
      "[CV] C=100, gamma=0.001, kernel=rbf ..................................\n",
      "[CV] ...... C=100, gamma=0.001, kernel=rbf, score=0.713, total=   0.2s\n",
      "[CV] C=100, gamma=0.001, kernel=rbf ..................................\n",
      "[CV] ...... C=100, gamma=0.001, kernel=rbf, score=0.722, total=   0.2s\n",
      "[CV] C=100, gamma=0.0001, kernel=rbf .................................\n",
      "[CV] ..... C=100, gamma=0.0001, kernel=rbf, score=0.741, total=   0.2s\n",
      "[CV] C=100, gamma=0.0001, kernel=rbf .................................\n",
      "[CV] ..... C=100, gamma=0.0001, kernel=rbf, score=0.768, total=   0.1s\n",
      "[CV] C=100, gamma=0.0001, kernel=rbf .................................\n",
      "[CV] ..... C=100, gamma=0.0001, kernel=rbf, score=0.682, total=   0.3s\n",
      "[CV] C=100, gamma=0.0001, kernel=rbf .................................\n",
      "[CV] ..... C=100, gamma=0.0001, kernel=rbf, score=0.731, total=   0.1s\n",
      "[CV] C=100, gamma=0.0001, kernel=rbf .................................\n",
      "[CV] ..... C=100, gamma=0.0001, kernel=rbf, score=0.691, total=   0.2s\n",
      "[CV] C=1000, gamma=1, kernel=rbf .....................................\n",
      "[CV] ......... C=1000, gamma=1, kernel=rbf, score=0.643, total=   0.5s\n",
      "[CV] C=1000, gamma=1, kernel=rbf .....................................\n",
      "[CV] ......... C=1000, gamma=1, kernel=rbf, score=0.705, total=   0.4s\n",
      "[CV] C=1000, gamma=1, kernel=rbf .....................................\n",
      "[CV] ......... C=1000, gamma=1, kernel=rbf, score=0.722, total=   0.6s\n",
      "[CV] C=1000, gamma=1, kernel=rbf .....................................\n",
      "[CV] ......... C=1000, gamma=1, kernel=rbf, score=0.758, total=   0.3s\n",
      "[CV] C=1000, gamma=1, kernel=rbf .....................................\n",
      "[CV] ......... C=1000, gamma=1, kernel=rbf, score=0.744, total=   0.4s\n",
      "[CV] C=1000, gamma=0.1, kernel=rbf ...................................\n",
      "[CV] ....... C=1000, gamma=0.1, kernel=rbf, score=0.705, total=   1.7s\n",
      "[CV] C=1000, gamma=0.1, kernel=rbf ...................................\n",
      "[CV] ....... C=1000, gamma=0.1, kernel=rbf, score=0.737, total=   1.4s\n",
      "[CV] C=1000, gamma=0.1, kernel=rbf ...................................\n",
      "[CV] ....... C=1000, gamma=0.1, kernel=rbf, score=0.749, total=   1.5s\n",
      "[CV] C=1000, gamma=0.1, kernel=rbf ...................................\n",
      "[CV] ....... C=1000, gamma=0.1, kernel=rbf, score=0.726, total=   1.4s\n",
      "[CV] C=1000, gamma=0.1, kernel=rbf ...................................\n",
      "[CV] ....... C=1000, gamma=0.1, kernel=rbf, score=0.735, total=   1.4s\n",
      "[CV] C=1000, gamma=0.01, kernel=rbf ..................................\n",
      "[CV] ...... C=1000, gamma=0.01, kernel=rbf, score=0.746, total=   1.5s\n",
      "[CV] C=1000, gamma=0.01, kernel=rbf ..................................\n",
      "[CV] ...... C=1000, gamma=0.01, kernel=rbf, score=0.795, total=   1.7s\n",
      "[CV] C=1000, gamma=0.01, kernel=rbf ..................................\n",
      "[CV] ...... C=1000, gamma=0.01, kernel=rbf, score=0.731, total=   0.9s\n",
      "[CV] C=1000, gamma=0.01, kernel=rbf ..................................\n",
      "[CV] ...... C=1000, gamma=0.01, kernel=rbf, score=0.677, total=   1.7s\n",
      "[CV] C=1000, gamma=0.01, kernel=rbf ..................................\n",
      "[CV] ...... C=1000, gamma=0.01, kernel=rbf, score=0.735, total=   1.1s\n",
      "[CV] C=1000, gamma=0.001, kernel=rbf .................................\n",
      "[CV] ..... C=1000, gamma=0.001, kernel=rbf, score=0.746, total=   0.3s\n",
      "[CV] C=1000, gamma=0.001, kernel=rbf .................................\n",
      "[CV] ..... C=1000, gamma=0.001, kernel=rbf, score=0.795, total=   0.4s\n",
      "[CV] C=1000, gamma=0.001, kernel=rbf .................................\n",
      "[CV] ..... C=1000, gamma=0.001, kernel=rbf, score=0.740, total=   0.4s\n",
      "[CV] C=1000, gamma=0.001, kernel=rbf .................................\n"
     ]
    },
    {
     "name": "stdout",
     "output_type": "stream",
     "text": [
      "[CV] ..... C=1000, gamma=0.001, kernel=rbf, score=0.722, total=   0.3s\n",
      "[CV] C=1000, gamma=0.001, kernel=rbf .................................\n",
      "[CV] ..... C=1000, gamma=0.001, kernel=rbf, score=0.731, total=   0.6s\n",
      "[CV] C=1000, gamma=0.0001, kernel=rbf ................................\n",
      "[CV] .... C=1000, gamma=0.0001, kernel=rbf, score=0.750, total=   0.1s\n",
      "[CV] C=1000, gamma=0.0001, kernel=rbf ................................\n",
      "[CV] .... C=1000, gamma=0.0001, kernel=rbf, score=0.799, total=   0.2s\n",
      "[CV] C=1000, gamma=0.0001, kernel=rbf ................................\n",
      "[CV] .... C=1000, gamma=0.0001, kernel=rbf, score=0.740, total=   0.3s\n",
      "[CV] C=1000, gamma=0.0001, kernel=rbf ................................\n",
      "[CV] .... C=1000, gamma=0.0001, kernel=rbf, score=0.713, total=   0.2s\n",
      "[CV] C=1000, gamma=0.0001, kernel=rbf ................................\n",
      "[CV] .... C=1000, gamma=0.0001, kernel=rbf, score=0.726, total=   0.1s\n"
     ]
    },
    {
     "name": "stderr",
     "output_type": "stream",
     "text": [
      "[Parallel(n_jobs=1)]: Done 125 out of 125 | elapsed:   42.8s finished\n"
     ]
    },
    {
     "data": {
      "text/plain": [
       "GridSearchCV(cv=None, error_score=nan,\n",
       "             estimator=SVC(C=1.0, break_ties=False, cache_size=200,\n",
       "                           class_weight=None, coef0=0.0,\n",
       "                           decision_function_shape='ovr', degree=3,\n",
       "                           gamma='scale', kernel='rbf', max_iter=-1,\n",
       "                           probability=False, random_state=None, shrinking=True,\n",
       "                           tol=0.001, verbose=False),\n",
       "             iid='deprecated', n_jobs=None,\n",
       "             param_grid={'C': [0.1, 1, 10, 100, 1000],\n",
       "                         'gamma': [1, 0.1, 0.01, 0.001, 0.0001],\n",
       "                         'kernel': ['rbf']},\n",
       "             pre_dispatch='2*n_jobs', refit=True, return_train_score=False,\n",
       "             scoring=None, verbose=3)"
      ]
     },
     "execution_count": 119,
     "metadata": {},
     "output_type": "execute_result"
    }
   ],
   "source": [
    "param_grid = {'C': [0.1,1, 10, 100, 1000], 'gamma': [1,0.1,0.01,0.001,0.0001], 'kernel': ['rbf']} \n",
    "from sklearn.model_selection import GridSearchCV\n",
    "grid = GridSearchCV(SVC(),param_grid,refit=True,verbose=3)\n",
    "grid.fit(X_train,y_train)"
   ]
  },
  {
   "cell_type": "markdown",
   "metadata": {},
   "source": [
    "#### Generate Predictions\n",
    "\n",
    "We will generate new predictions using the best estimators found in the grid search completed above."
   ]
  },
  {
   "cell_type": "code",
   "execution_count": 120,
   "metadata": {},
   "outputs": [
    {
     "data": {
      "text/plain": [
       "SVC(C=100, break_ties=False, cache_size=200, class_weight=None, coef0=0.0,\n",
       "    decision_function_shape='ovr', degree=3, gamma=0.001, kernel='rbf',\n",
       "    max_iter=-1, probability=False, random_state=None, shrinking=True,\n",
       "    tol=0.001, verbose=False)"
      ]
     },
     "execution_count": 120,
     "metadata": {},
     "output_type": "execute_result"
    }
   ],
   "source": [
    "grid.best_estimator_"
   ]
  },
  {
   "cell_type": "code",
   "execution_count": 121,
   "metadata": {},
   "outputs": [],
   "source": [
    "grid_predictions = grid.predict(X_test)"
   ]
  },
  {
   "cell_type": "markdown",
   "metadata": {},
   "source": [
    "#### Confusion Matrix and Classification Report"
   ]
  },
  {
   "cell_type": "code",
   "execution_count": 122,
   "metadata": {},
   "outputs": [
    {
     "name": "stdout",
     "output_type": "stream",
     "text": [
      "[[180  63]\n",
      " [ 60 177]]\n"
     ]
    }
   ],
   "source": [
    "print(confusion_matrix(y_test,grid_predictions))"
   ]
  },
  {
   "cell_type": "code",
   "execution_count": 123,
   "metadata": {},
   "outputs": [
    {
     "name": "stdout",
     "output_type": "stream",
     "text": [
      "              precision    recall  f1-score   support\n",
      "\n",
      "           0       0.75      0.74      0.75       243\n",
      "           1       0.74      0.75      0.74       237\n",
      "\n",
      "    accuracy                           0.74       480\n",
      "   macro avg       0.74      0.74      0.74       480\n",
      "weighted avg       0.74      0.74      0.74       480\n",
      "\n"
     ]
    }
   ],
   "source": [
    "print(classification_report(y_test,grid_predictions))"
   ]
  },
  {
   "cell_type": "markdown",
   "metadata": {},
   "source": [
    "Despite performing the grid search, we have only managed to achieve a 74% accuracy score.\n",
    "\n",
    "### Deep Learning\n",
    "\n",
    "In order to use deep learning, we are going to have to normalise the data. We shall do this using the standard scalar."
   ]
  },
  {
   "cell_type": "code",
   "execution_count": 139,
   "metadata": {},
   "outputs": [],
   "source": [
    "from sklearn.preprocessing import StandardScaler"
   ]
  },
  {
   "cell_type": "code",
   "execution_count": 140,
   "metadata": {},
   "outputs": [],
   "source": [
    "scaler = StandardScaler()"
   ]
  },
  {
   "cell_type": "code",
   "execution_count": 141,
   "metadata": {},
   "outputs": [
    {
     "data": {
      "text/plain": [
       "StandardScaler(copy=True, with_mean=True, with_std=True)"
      ]
     },
     "execution_count": 141,
     "metadata": {},
     "output_type": "execute_result"
    }
   ],
   "source": [
    "scaler.fit(X)"
   ]
  },
  {
   "cell_type": "code",
   "execution_count": 142,
   "metadata": {},
   "outputs": [],
   "source": [
    "X_scaled = scaler.fit_transform(X)"
   ]
  },
  {
   "cell_type": "code",
   "execution_count": 143,
   "metadata": {},
   "outputs": [
    {
     "data": {
      "text/html": [
       "<div>\n",
       "<style scoped>\n",
       "    .dataframe tbody tr th:only-of-type {\n",
       "        vertical-align: middle;\n",
       "    }\n",
       "\n",
       "    .dataframe tbody tr th {\n",
       "        vertical-align: top;\n",
       "    }\n",
       "\n",
       "    .dataframe thead th {\n",
       "        text-align: right;\n",
       "    }\n",
       "</style>\n",
       "<table border=\"1\" class=\"dataframe\">\n",
       "  <thead>\n",
       "    <tr style=\"text-align: right;\">\n",
       "      <th></th>\n",
       "      <th>volatile acidity</th>\n",
       "      <th>citric acid</th>\n",
       "      <th>residual sugar</th>\n",
       "      <th>chlorides</th>\n",
       "      <th>total sulfur dioxide</th>\n",
       "      <th>density</th>\n",
       "      <th>pH</th>\n",
       "      <th>sulphates</th>\n",
       "      <th>alcohol</th>\n",
       "    </tr>\n",
       "  </thead>\n",
       "  <tbody>\n",
       "    <tr>\n",
       "      <th>0</th>\n",
       "      <td>0.960657</td>\n",
       "      <td>-1.391823</td>\n",
       "      <td>-0.452579</td>\n",
       "      <td>-0.244648</td>\n",
       "      <td>-0.382535</td>\n",
       "      <td>0.556807</td>\n",
       "      <td>1.288470</td>\n",
       "      <td>-0.580216</td>\n",
       "      <td>-0.959307</td>\n",
       "    </tr>\n",
       "    <tr>\n",
       "      <th>1</th>\n",
       "      <td>1.966614</td>\n",
       "      <td>-1.391823</td>\n",
       "      <td>0.049020</td>\n",
       "      <td>0.222827</td>\n",
       "      <td>0.654661</td>\n",
       "      <td>0.025923</td>\n",
       "      <td>-0.723652</td>\n",
       "      <td>0.127837</td>\n",
       "      <td>-0.583341</td>\n",
       "    </tr>\n",
       "    <tr>\n",
       "      <th>2</th>\n",
       "      <td>1.295976</td>\n",
       "      <td>-1.185980</td>\n",
       "      <td>-0.165951</td>\n",
       "      <td>0.095334</td>\n",
       "      <td>0.246069</td>\n",
       "      <td>0.132100</td>\n",
       "      <td>-0.334209</td>\n",
       "      <td>-0.049176</td>\n",
       "      <td>-0.583341</td>\n",
       "    </tr>\n",
       "    <tr>\n",
       "      <th>3</th>\n",
       "      <td>-1.386577</td>\n",
       "      <td>1.489975</td>\n",
       "      <td>-0.452579</td>\n",
       "      <td>-0.265897</td>\n",
       "      <td>0.434650</td>\n",
       "      <td>0.662984</td>\n",
       "      <td>-0.983280</td>\n",
       "      <td>-0.462207</td>\n",
       "      <td>-0.583341</td>\n",
       "    </tr>\n",
       "    <tr>\n",
       "      <th>4</th>\n",
       "      <td>0.960657</td>\n",
       "      <td>-1.391823</td>\n",
       "      <td>-0.452579</td>\n",
       "      <td>-0.244648</td>\n",
       "      <td>-0.382535</td>\n",
       "      <td>0.556807</td>\n",
       "      <td>1.288470</td>\n",
       "      <td>-0.580216</td>\n",
       "      <td>-0.959307</td>\n",
       "    </tr>\n",
       "  </tbody>\n",
       "</table>\n",
       "</div>"
      ],
      "text/plain": [
       "   volatile acidity  citric acid  residual sugar  chlorides  \\\n",
       "0          0.960657    -1.391823       -0.452579  -0.244648   \n",
       "1          1.966614    -1.391823        0.049020   0.222827   \n",
       "2          1.295976    -1.185980       -0.165951   0.095334   \n",
       "3         -1.386577     1.489975       -0.452579  -0.265897   \n",
       "4          0.960657    -1.391823       -0.452579  -0.244648   \n",
       "\n",
       "   total sulfur dioxide   density        pH  sulphates   alcohol  \n",
       "0             -0.382535  0.556807  1.288470  -0.580216 -0.959307  \n",
       "1              0.654661  0.025923 -0.723652   0.127837 -0.583341  \n",
       "2              0.246069  0.132100 -0.334209  -0.049176 -0.583341  \n",
       "3              0.434650  0.662984 -0.983280  -0.462207 -0.583341  \n",
       "4             -0.382535  0.556807  1.288470  -0.580216 -0.959307  "
      ]
     },
     "execution_count": 143,
     "metadata": {},
     "output_type": "execute_result"
    }
   ],
   "source": [
    "df_feat = pd.DataFrame(X_scaled,columns=df.columns[:-1])\n",
    "df_feat.head()"
   ]
  },
  {
   "cell_type": "markdown",
   "metadata": {},
   "source": [
    "#### Train Test Split"
   ]
  },
  {
   "cell_type": "code",
   "execution_count": 149,
   "metadata": {},
   "outputs": [],
   "source": [
    "X = df_feat.values\n",
    "y = df['new_rating'].values\n",
    "X_train, X_test, y_train, y_test = train_test_split(X, y, test_size=0.3, random_state=101)"
   ]
  },
  {
   "cell_type": "markdown",
   "metadata": {},
   "source": [
    "#### Create a Neural Network"
   ]
  },
  {
   "cell_type": "code",
   "execution_count": 150,
   "metadata": {},
   "outputs": [],
   "source": [
    "import tensorflow as tf\n",
    "from tensorflow.keras.models import Sequential\n",
    "from tensorflow.keras.layers import Dense,Dropout"
   ]
  },
  {
   "cell_type": "code",
   "execution_count": null,
   "metadata": {},
   "outputs": [],
   "source": []
  },
  {
   "cell_type": "code",
   "execution_count": 151,
   "metadata": {},
   "outputs": [],
   "source": [
    "nn = Sequential()\n",
    "\n",
    "nn.add(Dense(9,activation='relu'))\n",
    "nn.add(Dropout(0.2))\n",
    "\n",
    "nn.add(Dense(7,activation='relu'))\n",
    "nn.add(Dropout(0.2))\n",
    "\n",
    "nn.add(Dense(5,activation='relu'))\n",
    "nn.add(Dropout(0.2))\n",
    "\n",
    "nn.add(Dense(3,activation='relu'))\n",
    "nn.add(Dropout(0.2))\n",
    "\n",
    "nn.add(Dense(1,activation='sigmoid'))\n",
    "\n",
    "nn.compile(loss='binary_crossentropy',optimizer='adam')"
   ]
  },
  {
   "cell_type": "code",
   "execution_count": 152,
   "metadata": {},
   "outputs": [],
   "source": [
    "from tensorflow.keras.callbacks import EarlyStopping\n",
    "early_stop = EarlyStopping(monitor='val_loss', mode='min', verbose=1, patience=25)"
   ]
  },
  {
   "cell_type": "code",
   "execution_count": 153,
   "metadata": {},
   "outputs": [
    {
     "name": "stdout",
     "output_type": "stream",
     "text": [
      "WARNING:tensorflow:From C:\\Users\\Joe\\anaconda3\\lib\\site-packages\\tensorflow\\python\\ops\\nn_impl.py:180: add_dispatch_support.<locals>.wrapper (from tensorflow.python.ops.array_ops) is deprecated and will be removed in a future version.\n",
      "Instructions for updating:\n",
      "Use tf.where in 2.0, which has the same broadcast rule as np.where\n",
      "Train on 1117 samples, validate on 480 samples\n",
      "Epoch 1/600\n",
      "1117/1117 [==============================] - 3s 3ms/sample - loss: 0.8161 - val_loss: 0.7295\n",
      "Epoch 2/600\n",
      "1117/1117 [==============================] - ETA: 0s - loss: 0.740 - 1s 622us/sample - loss: 0.7395 - val_loss: 0.6927\n",
      "Epoch 3/600\n",
      "1117/1117 [==============================] - 1s 634us/sample - loss: 0.7044 - val_loss: 0.6756\n",
      "Epoch 4/600\n",
      "1117/1117 [==============================] - 1s 636us/sample - loss: 0.6809 - val_loss: 0.6650\n",
      "Epoch 5/600\n",
      "1117/1117 [==============================] - 1s 721us/sample - loss: 0.6833 - val_loss: 0.6555\n",
      "Epoch 6/600\n",
      "1117/1117 [==============================] - 1s 609us/sample - loss: 0.6646 - val_loss: 0.6457\n",
      "Epoch 7/600\n",
      "1117/1117 [==============================] - 1s 693us/sample - loss: 0.6455 - val_loss: 0.6339\n",
      "Epoch 8/600\n",
      "1117/1117 [==============================] - 1s 644us/sample - loss: 0.6452 - val_loss: 0.6217\n",
      "Epoch 9/600\n",
      "1117/1117 [==============================] - 1s 652us/sample - loss: 0.6280 - val_loss: 0.6107\n",
      "Epoch 10/600\n",
      "1117/1117 [==============================] - 1s 554us/sample - loss: 0.6270 - val_loss: 0.6038\n",
      "Epoch 11/600\n",
      "1117/1117 [==============================] - 1s 644us/sample - loss: 0.6361 - val_loss: 0.6014\n",
      "Epoch 12/600\n",
      "1117/1117 [==============================] - 1s 549us/sample - loss: 0.6126 - val_loss: 0.5965\n",
      "Epoch 13/600\n",
      "1117/1117 [==============================] - 1s 582us/sample - loss: 0.6211 - val_loss: 0.5950\n",
      "Epoch 14/600\n",
      "1117/1117 [==============================] - 1s 601us/sample - loss: 0.6015 - val_loss: 0.5923\n",
      "Epoch 15/600\n",
      "1117/1117 [==============================] - 1s 644us/sample - loss: 0.6124 - val_loss: 0.5906\n",
      "Epoch 16/600\n",
      "1117/1117 [==============================] - 1s 552us/sample - loss: 0.6168 - val_loss: 0.5894\n",
      "Epoch 17/600\n",
      "1117/1117 [==============================] - 1s 687us/sample - loss: 0.5877 - val_loss: 0.5862\n",
      "Epoch 18/600\n",
      "1117/1117 [==============================] - 1s 593us/sample - loss: 0.6000 - val_loss: 0.5843\n",
      "Epoch 19/600\n",
      "1117/1117 [==============================] - 1s 557us/sample - loss: 0.5993 - val_loss: 0.5828\n",
      "Epoch 20/600\n",
      "1117/1117 [==============================] - 1s 604us/sample - loss: 0.6030 - val_loss: 0.5817\n",
      "Epoch 21/600\n",
      "1117/1117 [==============================] - 1s 554us/sample - loss: 0.6049 - val_loss: 0.5822\n",
      "Epoch 22/600\n",
      "1117/1117 [==============================] - 1s 891us/sample - loss: 0.5856 - val_loss: 0.5791\n",
      "Epoch 23/600\n",
      "1117/1117 [==============================] - 1s 537us/sample - loss: 0.5918 - val_loss: 0.5772\n",
      "Epoch 24/600\n",
      "1117/1117 [==============================] - 1s 608us/sample - loss: 0.5690 - val_loss: 0.5758\n",
      "Epoch 25/600\n",
      "1117/1117 [==============================] - 1s 715us/sample - loss: 0.6094 - val_loss: 0.5752\n",
      "Epoch 26/600\n",
      "1117/1117 [==============================] - 1s 607us/sample - loss: 0.5986 - val_loss: 0.5735\n",
      "Epoch 27/600\n",
      "1117/1117 [==============================] - 1s 699us/sample - loss: 0.5998 - val_loss: 0.5730\n",
      "Epoch 28/600\n",
      "1117/1117 [==============================] - 1s 538us/sample - loss: 0.5869 - val_loss: 0.5725\n",
      "Epoch 29/600\n",
      "1117/1117 [==============================] - 1s 517us/sample - loss: 0.5916 - val_loss: 0.5709\n",
      "Epoch 30/600\n",
      "1117/1117 [==============================] - 1s 685us/sample - loss: 0.5968 - val_loss: 0.5712\n",
      "Epoch 31/600\n",
      "1117/1117 [==============================] - 1s 640us/sample - loss: 0.5905 - val_loss: 0.5705\n",
      "Epoch 32/600\n",
      "1117/1117 [==============================] - 1s 705us/sample - loss: 0.5850 - val_loss: 0.5696\n",
      "Epoch 33/600\n",
      "1117/1117 [==============================] - 1s 613us/sample - loss: 0.5835 - val_loss: 0.5674\n",
      "Epoch 34/600\n",
      "1117/1117 [==============================] - 1s 544us/sample - loss: 0.5939 - val_loss: 0.5672\n",
      "Epoch 35/600\n",
      "1117/1117 [==============================] - 1s 614us/sample - loss: 0.5923 - val_loss: 0.5665\n",
      "Epoch 36/600\n",
      "1117/1117 [==============================] - 1s 599us/sample - loss: 0.5914 - val_loss: 0.5661\n",
      "Epoch 37/600\n",
      "1117/1117 [==============================] - 1s 622us/sample - loss: 0.5646 - val_loss: 0.5646\n",
      "Epoch 38/600\n",
      "1117/1117 [==============================] - 1s 623us/sample - loss: 0.5803 - val_loss: 0.5645\n",
      "Epoch 39/600\n",
      "1117/1117 [==============================] - 1s 569us/sample - loss: 0.5894 - val_loss: 0.5638\n",
      "Epoch 40/600\n",
      "1117/1117 [==============================] - 1s 611us/sample - loss: 0.5680 - val_loss: 0.5634\n",
      "Epoch 41/600\n",
      "1117/1117 [==============================] - 1s 578us/sample - loss: 0.5694 - val_loss: 0.5627\n",
      "Epoch 42/600\n",
      "1117/1117 [==============================] - 1s 635us/sample - loss: 0.5740 - val_loss: 0.5618\n",
      "Epoch 43/600\n",
      "1117/1117 [==============================] - 1s 605us/sample - loss: 0.5720 - val_loss: 0.5602\n",
      "Epoch 44/600\n",
      "1117/1117 [==============================] - 1s 578us/sample - loss: 0.5689 - val_loss: 0.5605\n",
      "Epoch 45/600\n",
      "1117/1117 [==============================] - 1s 712us/sample - loss: 0.5672 - val_loss: 0.5592\n",
      "Epoch 46/600\n",
      "1117/1117 [==============================] - 1s 705us/sample - loss: 0.5718 - val_loss: 0.5587\n",
      "Epoch 47/600\n",
      "1117/1117 [==============================] - 1s 563us/sample - loss: 0.5627 - val_loss: 0.5574\n",
      "Epoch 48/600\n",
      "1117/1117 [==============================] - 1s 565us/sample - loss: 0.5676 - val_loss: 0.5565\n",
      "Epoch 49/600\n",
      "1117/1117 [==============================] - 1s 533us/sample - loss: 0.5623 - val_loss: 0.5561\n",
      "Epoch 50/600\n",
      "1117/1117 [==============================] - 1s 573us/sample - loss: 0.5680 - val_loss: 0.5567\n",
      "Epoch 51/600\n",
      "1117/1117 [==============================] - 1s 641us/sample - loss: 0.5586 - val_loss: 0.5566\n",
      "Epoch 52/600\n",
      "1117/1117 [==============================] - 1s 630us/sample - loss: 0.5768 - val_loss: 0.5558\n",
      "Epoch 53/600\n",
      "1117/1117 [==============================] - 1s 749us/sample - loss: 0.5621 - val_loss: 0.5552\n",
      "Epoch 54/600\n",
      "1117/1117 [==============================] - 1s 641us/sample - loss: 0.5664 - val_loss: 0.5555\n",
      "Epoch 55/600\n",
      "1117/1117 [==============================] - 1s 743us/sample - loss: 0.5606 - val_loss: 0.5547\n",
      "Epoch 56/600\n",
      "1117/1117 [==============================] - 1s 663us/sample - loss: 0.5675 - val_loss: 0.5544\n",
      "Epoch 57/600\n",
      "1117/1117 [==============================] - 1s 605us/sample - loss: 0.5730 - val_loss: 0.5544\n",
      "Epoch 58/600\n",
      "1117/1117 [==============================] - 1s 651us/sample - loss: 0.5742 - val_loss: 0.5542\n",
      "Epoch 59/600\n",
      "1117/1117 [==============================] - 1s 594us/sample - loss: 0.5688 - val_loss: 0.5534\n",
      "Epoch 60/600\n",
      "1117/1117 [==============================] - 1s 518us/sample - loss: 0.5759 - val_loss: 0.5533\n",
      "Epoch 61/600\n",
      "1117/1117 [==============================] - 1s 598us/sample - loss: 0.5756 - val_loss: 0.5533\n",
      "Epoch 62/600\n",
      "1117/1117 [==============================] - 1s 589us/sample - loss: 0.5662 - val_loss: 0.5528\n",
      "Epoch 63/600\n",
      "1117/1117 [==============================] - 1s 691us/sample - loss: 0.5706 - val_loss: 0.5523\n",
      "Epoch 64/600\n",
      "1117/1117 [==============================] - 1s 546us/sample - loss: 0.5600 - val_loss: 0.5528\n",
      "Epoch 65/600\n",
      "1117/1117 [==============================] - 1s 568us/sample - loss: 0.5524 - val_loss: 0.5517\n",
      "Epoch 66/600\n",
      "1117/1117 [==============================] - 1s 642us/sample - loss: 0.5558 - val_loss: 0.5529\n",
      "Epoch 67/600\n",
      "1117/1117 [==============================] - 1s 715us/sample - loss: 0.5568 - val_loss: 0.5538\n",
      "Epoch 68/600\n",
      "1117/1117 [==============================] - 1s 671us/sample - loss: 0.5558 - val_loss: 0.5529\n",
      "Epoch 69/600\n",
      "1117/1117 [==============================] - 1s 631us/sample - loss: 0.5550 - val_loss: 0.5520\n",
      "Epoch 70/600\n",
      "1117/1117 [==============================] - 1s 594us/sample - loss: 0.5536 - val_loss: 0.5528\n",
      "Epoch 71/600\n",
      "1117/1117 [==============================] - 1s 593us/sample - loss: 0.5535 - val_loss: 0.5522\n",
      "Epoch 72/600\n",
      "1117/1117 [==============================] - 1s 600us/sample - loss: 0.5581 - val_loss: 0.5510\n",
      "Epoch 73/600\n",
      "1117/1117 [==============================] - 1s 653us/sample - loss: 0.5698 - val_loss: 0.5508\n",
      "Epoch 74/600\n",
      "1117/1117 [==============================] - 1s 762us/sample - loss: 0.5529 - val_loss: 0.5498\n",
      "Epoch 75/600\n",
      "1117/1117 [==============================] - 1s 712us/sample - loss: 0.5614 - val_loss: 0.5485\n",
      "Epoch 76/600\n",
      "1117/1117 [==============================] - 1s 703us/sample - loss: 0.5692 - val_loss: 0.5502\n",
      "Epoch 77/600\n",
      "1117/1117 [==============================] - 1s 662us/sample - loss: 0.5555 - val_loss: 0.5488\n",
      "Epoch 78/600\n",
      "1117/1117 [==============================] - 1s 568us/sample - loss: 0.5499 - val_loss: 0.5483\n",
      "Epoch 79/600\n",
      "1117/1117 [==============================] - 1s 551us/sample - loss: 0.5584 - val_loss: 0.5462\n",
      "Epoch 80/600\n",
      "1117/1117 [==============================] - 1s 626us/sample - loss: 0.5570 - val_loss: 0.5456\n",
      "Epoch 81/600\n",
      "1117/1117 [==============================] - 1s 573us/sample - loss: 0.5613 - val_loss: 0.5460\n",
      "Epoch 82/600\n",
      "1117/1117 [==============================] - 1s 517us/sample - loss: 0.5577 - val_loss: 0.5464\n",
      "Epoch 83/600\n",
      "1117/1117 [==============================] - 1s 590us/sample - loss: 0.5626 - val_loss: 0.5466\n",
      "Epoch 84/600\n",
      "1117/1117 [==============================] - 1s 611us/sample - loss: 0.5434 - val_loss: 0.5461\n",
      "Epoch 85/600\n",
      "1117/1117 [==============================] - 1s 600us/sample - loss: 0.5498 - val_loss: 0.5461\n",
      "Epoch 86/600\n",
      "1117/1117 [==============================] - 1s 597us/sample - loss: 0.5539 - val_loss: 0.5452\n",
      "Epoch 87/600\n",
      "1117/1117 [==============================] - 1s 608us/sample - loss: 0.5506 - val_loss: 0.5444\n",
      "Epoch 88/600\n",
      "1117/1117 [==============================] - 1s 497us/sample - loss: 0.5509 - val_loss: 0.5444\n",
      "Epoch 89/600\n",
      "1117/1117 [==============================] - 1s 609us/sample - loss: 0.5305 - val_loss: 0.5445\n",
      "Epoch 90/600\n",
      "1117/1117 [==============================] - 1s 718us/sample - loss: 0.5391 - val_loss: 0.5452\n",
      "Epoch 91/600\n",
      "1117/1117 [==============================] - 1s 577us/sample - loss: 0.5450 - val_loss: 0.5444\n",
      "Epoch 92/600\n",
      "1117/1117 [==============================] - 1s 661us/sample - loss: 0.5496 - val_loss: 0.5439\n",
      "Epoch 93/600\n",
      "1117/1117 [==============================] - 1s 670us/sample - loss: 0.5460 - val_loss: 0.5434\n",
      "Epoch 94/600\n",
      "1117/1117 [==============================] - 1s 656us/sample - loss: 0.5536 - val_loss: 0.5433\n",
      "Epoch 95/600\n",
      "1117/1117 [==============================] - 1s 581us/sample - loss: 0.5563 - val_loss: 0.5435\n",
      "Epoch 96/600\n",
      "1117/1117 [==============================] - 1s 622us/sample - loss: 0.5535 - val_loss: 0.5452\n",
      "Epoch 97/600\n",
      "1117/1117 [==============================] - 1s 663us/sample - loss: 0.5539 - val_loss: 0.5434\n",
      "Epoch 98/600\n",
      "1117/1117 [==============================] - 1s 600us/sample - loss: 0.5525 - val_loss: 0.5432\n",
      "Epoch 99/600\n",
      "1117/1117 [==============================] - 1s 735us/sample - loss: 0.5421 - val_loss: 0.5436\n",
      "Epoch 100/600\n",
      "1117/1117 [==============================] - 1s 725us/sample - loss: 0.5481 - val_loss: 0.5447\n",
      "Epoch 101/600\n",
      "1117/1117 [==============================] - 1s 565us/sample - loss: 0.5574 - val_loss: 0.5451\n",
      "Epoch 102/600\n",
      "1117/1117 [==============================] - 1s 602us/sample - loss: 0.5595 - val_loss: 0.5438\n",
      "Epoch 103/600\n",
      "1117/1117 [==============================] - 1s 637us/sample - loss: 0.5678 - val_loss: 0.5433\n",
      "Epoch 104/600\n",
      "1117/1117 [==============================] - 1s 636us/sample - loss: 0.5404 - val_loss: 0.5431\n",
      "Epoch 105/600\n",
      "1117/1117 [==============================] - 1s 625us/sample - loss: 0.5616 - val_loss: 0.5427\n",
      "Epoch 106/600\n",
      "1117/1117 [==============================] - 1s 696us/sample - loss: 0.5402 - val_loss: 0.5423\n",
      "Epoch 107/600\n",
      "1117/1117 [==============================] - 1s 644us/sample - loss: 0.5442 - val_loss: 0.5423\n",
      "Epoch 108/600\n",
      "1117/1117 [==============================] - 1s 541us/sample - loss: 0.5396 - val_loss: 0.5420\n",
      "Epoch 109/600\n",
      "1117/1117 [==============================] - 1s 636us/sample - loss: 0.5336 - val_loss: 0.5438\n",
      "Epoch 110/600\n",
      "1117/1117 [==============================] - 1s 537us/sample - loss: 0.5434 - val_loss: 0.5424\n",
      "Epoch 111/600\n",
      "1117/1117 [==============================] - 1s 825us/sample - loss: 0.5498 - val_loss: 0.5431\n",
      "Epoch 112/600\n",
      "1117/1117 [==============================] - 1s 697us/sample - loss: 0.5449 - val_loss: 0.5428\n",
      "Epoch 113/600\n",
      "1117/1117 [==============================] - 1s 611us/sample - loss: 0.5429 - val_loss: 0.5424\n",
      "Epoch 114/600\n",
      "1117/1117 [==============================] - 1s 697us/sample - loss: 0.5386 - val_loss: 0.5423\n",
      "Epoch 115/600\n",
      "1117/1117 [==============================] - 1s 666us/sample - loss: 0.5581 - val_loss: 0.5414\n",
      "Epoch 116/600\n",
      "1117/1117 [==============================] - 1s 692us/sample - loss: 0.5358 - val_loss: 0.5418\n",
      "Epoch 117/600\n",
      "1117/1117 [==============================] - 1s 620us/sample - loss: 0.5347 - val_loss: 0.5427\n",
      "Epoch 118/600\n",
      "1117/1117 [==============================] - 1s 833us/sample - loss: 0.5385 - val_loss: 0.5429\n",
      "Epoch 119/600\n",
      "1117/1117 [==============================] - 1s 689us/sample - loss: 0.5380 - val_loss: 0.5421\n",
      "Epoch 120/600\n",
      "1117/1117 [==============================] - 1s 674us/sample - loss: 0.5263 - val_loss: 0.5443\n",
      "Epoch 121/600\n",
      "1117/1117 [==============================] - 1s 589us/sample - loss: 0.5351 - val_loss: 0.5438\n",
      "Epoch 122/600\n",
      "1117/1117 [==============================] - 1s 625us/sample - loss: 0.5412 - val_loss: 0.5420\n",
      "Epoch 123/600\n",
      "1117/1117 [==============================] - 1s 584us/sample - loss: 0.5413 - val_loss: 0.5413\n",
      "Epoch 124/600\n",
      "1117/1117 [==============================] - 1s 599us/sample - loss: 0.5585 - val_loss: 0.5420\n",
      "Epoch 125/600\n",
      "1117/1117 [==============================] - 1s 489us/sample - loss: 0.5409 - val_loss: 0.5413\n",
      "Epoch 126/600\n",
      "1117/1117 [==============================] - 1s 623us/sample - loss: 0.5324 - val_loss: 0.5424\n",
      "Epoch 127/600\n",
      "1117/1117 [==============================] - 1s 574us/sample - loss: 0.5423 - val_loss: 0.5425\n",
      "Epoch 128/600\n",
      "1117/1117 [==============================] - 1s 657us/sample - loss: 0.5431 - val_loss: 0.5406\n",
      "Epoch 129/600\n",
      "1117/1117 [==============================] - 1s 664us/sample - loss: 0.5479 - val_loss: 0.5404\n",
      "Epoch 130/600\n",
      "1117/1117 [==============================] - 1s 558us/sample - loss: 0.5355 - val_loss: 0.5403\n",
      "Epoch 131/600\n",
      "1117/1117 [==============================] - 1s 647us/sample - loss: 0.5311 - val_loss: 0.5421\n",
      "Epoch 132/600\n",
      "1117/1117 [==============================] - 1s 563us/sample - loss: 0.5414 - val_loss: 0.5422\n",
      "Epoch 133/600\n",
      "1117/1117 [==============================] - 1s 715us/sample - loss: 0.5331 - val_loss: 0.5406\n",
      "Epoch 134/600\n",
      "1117/1117 [==============================] - 1s 682us/sample - loss: 0.5415 - val_loss: 0.5405\n",
      "Epoch 135/600\n",
      "1117/1117 [==============================] - 1s 591us/sample - loss: 0.5531 - val_loss: 0.5410\n",
      "Epoch 136/600\n",
      "1117/1117 [==============================] - 1s 665us/sample - loss: 0.5299 - val_loss: 0.5411\n",
      "Epoch 137/600\n",
      "1117/1117 [==============================] - 1s 617us/sample - loss: 0.5389 - val_loss: 0.5406\n",
      "Epoch 138/600\n",
      "1117/1117 [==============================] - 1s 668us/sample - loss: 0.5360 - val_loss: 0.5415\n",
      "Epoch 139/600\n",
      "1117/1117 [==============================] - 1s 671us/sample - loss: 0.5333 - val_loss: 0.5407\n",
      "Epoch 140/600\n",
      "1117/1117 [==============================] - 1s 694us/sample - loss: 0.5320 - val_loss: 0.5410\n",
      "Epoch 141/600\n",
      "1117/1117 [==============================] - 1s 769us/sample - loss: 0.5246 - val_loss: 0.5420\n",
      "Epoch 142/600\n",
      "1117/1117 [==============================] - 1s 622us/sample - loss: 0.5475 - val_loss: 0.5411\n",
      "Epoch 143/600\n",
      "1117/1117 [==============================] - 1s 653us/sample - loss: 0.5295 - val_loss: 0.5409\n",
      "Epoch 144/600\n",
      "1117/1117 [==============================] - 1s 601us/sample - loss: 0.5364 - val_loss: 0.5412\n",
      "Epoch 145/600\n",
      "1117/1117 [==============================] - 1s 619us/sample - loss: 0.5327 - val_loss: 0.5413\n",
      "Epoch 146/600\n",
      "1117/1117 [==============================] - 1s 649us/sample - loss: 0.5328 - val_loss: 0.5413\n",
      "Epoch 147/600\n",
      "1117/1117 [==============================] - 1s 544us/sample - loss: 0.5347 - val_loss: 0.5424\n",
      "Epoch 148/600\n"
     ]
    },
    {
     "name": "stdout",
     "output_type": "stream",
     "text": [
      "1117/1117 [==============================] - 1s 554us/sample - loss: 0.5260 - val_loss: 0.5404\n",
      "Epoch 149/600\n",
      "1117/1117 [==============================] - 1s 550us/sample - loss: 0.5348 - val_loss: 0.5383\n",
      "Epoch 150/600\n",
      "1117/1117 [==============================] - 1s 599us/sample - loss: 0.5320 - val_loss: 0.5410\n",
      "Epoch 151/600\n",
      "1117/1117 [==============================] - 1s 682us/sample - loss: 0.5302 - val_loss: 0.5414\n",
      "Epoch 152/600\n",
      "1117/1117 [==============================] - 1s 628us/sample - loss: 0.5464 - val_loss: 0.5384\n",
      "Epoch 153/600\n",
      "1117/1117 [==============================] - 1s 658us/sample - loss: 0.5299 - val_loss: 0.5389\n",
      "Epoch 154/600\n",
      "1117/1117 [==============================] - 1s 567us/sample - loss: 0.5303 - val_loss: 0.5404\n",
      "Epoch 155/600\n",
      "1117/1117 [==============================] - 1s 622us/sample - loss: 0.5493 - val_loss: 0.5390\n",
      "Epoch 156/600\n",
      "1117/1117 [==============================] - 1s 673us/sample - loss: 0.5448 - val_loss: 0.5378\n",
      "Epoch 157/600\n",
      "1117/1117 [==============================] - 1s 792us/sample - loss: 0.5324 - val_loss: 0.5398\n",
      "Epoch 158/600\n",
      "1117/1117 [==============================] - 1s 567us/sample - loss: 0.5264 - val_loss: 0.5383\n",
      "Epoch 159/600\n",
      "1117/1117 [==============================] - 1s 645us/sample - loss: 0.5325 - val_loss: 0.5384\n",
      "Epoch 160/600\n",
      "1117/1117 [==============================] - 1s 728us/sample - loss: 0.5268 - val_loss: 0.5412\n",
      "Epoch 161/600\n",
      "1117/1117 [==============================] - 1s 700us/sample - loss: 0.5262 - val_loss: 0.5398\n",
      "Epoch 162/600\n",
      "1117/1117 [==============================] - 1s 803us/sample - loss: 0.5463 - val_loss: 0.5393\n",
      "Epoch 163/600\n",
      "1117/1117 [==============================] - 1s 731us/sample - loss: 0.5196 - val_loss: 0.5403\n",
      "Epoch 164/600\n",
      "1117/1117 [==============================] - 1s 937us/sample - loss: 0.5352 - val_loss: 0.5396\n",
      "Epoch 165/600\n",
      "1117/1117 [==============================] - 1s 641us/sample - loss: 0.5467 - val_loss: 0.5404\n",
      "Epoch 166/600\n",
      "1117/1117 [==============================] - 1s 563us/sample - loss: 0.5446 - val_loss: 0.5393\n",
      "Epoch 167/600\n",
      "1117/1117 [==============================] - 1s 623us/sample - loss: 0.5317 - val_loss: 0.5393\n",
      "Epoch 168/600\n",
      "1117/1117 [==============================] - 1s 776us/sample - loss: 0.5233 - val_loss: 0.5390\n",
      "Epoch 169/600\n",
      "1117/1117 [==============================] - 1s 582us/sample - loss: 0.5201 - val_loss: 0.5387\n",
      "Epoch 170/600\n",
      "1117/1117 [==============================] - 1s 702us/sample - loss: 0.5224 - val_loss: 0.5382\n",
      "Epoch 171/600\n",
      "1117/1117 [==============================] - 1s 552us/sample - loss: 0.5280 - val_loss: 0.5380\n",
      "Epoch 172/600\n",
      "1117/1117 [==============================] - 1s 555us/sample - loss: 0.5491 - val_loss: 0.5374\n",
      "Epoch 173/600\n",
      "1117/1117 [==============================] - 1s 580us/sample - loss: 0.5335 - val_loss: 0.5365\n",
      "Epoch 174/600\n",
      "1117/1117 [==============================] - 1s 589us/sample - loss: 0.5250 - val_loss: 0.5380\n",
      "Epoch 175/600\n",
      "1117/1117 [==============================] - 1s 797us/sample - loss: 0.5396 - val_loss: 0.5365\n",
      "Epoch 176/600\n",
      "1117/1117 [==============================] - 1s 678us/sample - loss: 0.5210 - val_loss: 0.5355\n",
      "Epoch 177/600\n",
      "1117/1117 [==============================] - 1s 574us/sample - loss: 0.5227 - val_loss: 0.5372\n",
      "Epoch 178/600\n",
      "1117/1117 [==============================] - 1s 625us/sample - loss: 0.5128 - val_loss: 0.5378\n",
      "Epoch 179/600\n",
      "1117/1117 [==============================] - 1s 687us/sample - loss: 0.5279 - val_loss: 0.5363\n",
      "Epoch 180/600\n",
      "1117/1117 [==============================] - 1s 665us/sample - loss: 0.5252 - val_loss: 0.5401\n",
      "Epoch 181/600\n",
      "1117/1117 [==============================] - 1s 670us/sample - loss: 0.5303 - val_loss: 0.5391\n",
      "Epoch 182/600\n",
      "1117/1117 [==============================] - 1s 679us/sample - loss: 0.5371 - val_loss: 0.5348\n",
      "Epoch 183/600\n",
      "1117/1117 [==============================] - 1s 656us/sample - loss: 0.5399 - val_loss: 0.5371\n",
      "Epoch 184/600\n",
      "1117/1117 [==============================] - 1s 737us/sample - loss: 0.5463 - val_loss: 0.5358\n",
      "Epoch 185/600\n",
      "1117/1117 [==============================] - 1s 626us/sample - loss: 0.5388 - val_loss: 0.5351\n",
      "Epoch 186/600\n",
      "1117/1117 [==============================] - 1s 636us/sample - loss: 0.5404 - val_loss: 0.5344\n",
      "Epoch 187/600\n",
      "1117/1117 [==============================] - 1s 738us/sample - loss: 0.5362 - val_loss: 0.5359\n",
      "Epoch 188/600\n",
      "1117/1117 [==============================] - 1s 613us/sample - loss: 0.5314 - val_loss: 0.5362\n",
      "Epoch 189/600\n",
      "1117/1117 [==============================] - 1s 541us/sample - loss: 0.5214 - val_loss: 0.5366\n",
      "Epoch 190/600\n",
      "1117/1117 [==============================] - 1s 592us/sample - loss: 0.5351 - val_loss: 0.5339\n",
      "Epoch 191/600\n",
      "1117/1117 [==============================] - 1s 619us/sample - loss: 0.5259 - val_loss: 0.5356\n",
      "Epoch 192/600\n",
      "1117/1117 [==============================] - 1s 528us/sample - loss: 0.5227 - val_loss: 0.5366\n",
      "Epoch 193/600\n",
      "1117/1117 [==============================] - 1s 591us/sample - loss: 0.5284 - val_loss: 0.5341\n",
      "Epoch 194/600\n",
      "1117/1117 [==============================] - 1s 588us/sample - loss: 0.5252 - val_loss: 0.5342\n",
      "Epoch 195/600\n",
      "1117/1117 [==============================] - 1s 574us/sample - loss: 0.5229 - val_loss: 0.5348\n",
      "Epoch 196/600\n",
      "1117/1117 [==============================] - 1s 662us/sample - loss: 0.5250 - val_loss: 0.5355\n",
      "Epoch 197/600\n",
      "1117/1117 [==============================] - 1s 548us/sample - loss: 0.5365 - val_loss: 0.5366\n",
      "Epoch 198/600\n",
      "1117/1117 [==============================] - 1s 682us/sample - loss: 0.5306 - val_loss: 0.5351\n",
      "Epoch 199/600\n",
      "1117/1117 [==============================] - 1s 637us/sample - loss: 0.5290 - val_loss: 0.5345\n",
      "Epoch 200/600\n",
      "1117/1117 [==============================] - 1s 597us/sample - loss: 0.5269 - val_loss: 0.5354\n",
      "Epoch 201/600\n",
      "1117/1117 [==============================] - ETA: 0s - loss: 0.542 - 1s 704us/sample - loss: 0.5392 - val_loss: 0.5335\n",
      "Epoch 202/600\n",
      "1117/1117 [==============================] - 1s 594us/sample - loss: 0.5360 - val_loss: 0.5327\n",
      "Epoch 203/600\n",
      "1117/1117 [==============================] - 1s 633us/sample - loss: 0.5208 - val_loss: 0.5340\n",
      "Epoch 204/600\n",
      "1117/1117 [==============================] - 1s 715us/sample - loss: 0.5221 - val_loss: 0.5343\n",
      "Epoch 205/600\n",
      "1117/1117 [==============================] - 1s 642us/sample - loss: 0.5354 - val_loss: 0.5317\n",
      "Epoch 206/600\n",
      "1117/1117 [==============================] - 1s 672us/sample - loss: 0.5232 - val_loss: 0.5314\n",
      "Epoch 207/600\n",
      "1117/1117 [==============================] - 1s 628us/sample - loss: 0.5260 - val_loss: 0.5352\n",
      "Epoch 208/600\n",
      "1117/1117 [==============================] - 1s 657us/sample - loss: 0.5243 - val_loss: 0.5329\n",
      "Epoch 209/600\n",
      "1117/1117 [==============================] - 1s 654us/sample - loss: 0.5159 - val_loss: 0.5352\n",
      "Epoch 210/600\n",
      "1117/1117 [==============================] - 1s 620us/sample - loss: 0.5208 - val_loss: 0.5327\n",
      "Epoch 211/600\n",
      "1117/1117 [==============================] - 1s 661us/sample - loss: 0.5250 - val_loss: 0.5335\n",
      "Epoch 212/600\n",
      "1117/1117 [==============================] - 1s 745us/sample - loss: 0.5390 - val_loss: 0.5310\n",
      "Epoch 213/600\n",
      "1117/1117 [==============================] - 1s 673us/sample - loss: 0.5193 - val_loss: 0.5335\n",
      "Epoch 214/600\n",
      "1117/1117 [==============================] - 1s 604us/sample - loss: 0.5312 - val_loss: 0.5329\n",
      "Epoch 215/600\n",
      "1117/1117 [==============================] - 1s 639us/sample - loss: 0.5251 - val_loss: 0.5342\n",
      "Epoch 216/600\n",
      "1117/1117 [==============================] - 1s 584us/sample - loss: 0.5347 - val_loss: 0.5335\n",
      "Epoch 217/600\n",
      "1117/1117 [==============================] - 1s 679us/sample - loss: 0.5441 - val_loss: 0.5327\n",
      "Epoch 218/600\n",
      "1117/1117 [==============================] - 1s 585us/sample - loss: 0.5100 - val_loss: 0.5343\n",
      "Epoch 219/600\n",
      "1117/1117 [==============================] - 1s 582us/sample - loss: 0.5278 - val_loss: 0.5341\n",
      "Epoch 220/600\n",
      "1117/1117 [==============================] - 1s 670us/sample - loss: 0.5177 - val_loss: 0.5333\n",
      "Epoch 221/600\n",
      "1117/1117 [==============================] - 1s 708us/sample - loss: 0.5195 - val_loss: 0.5337\n",
      "Epoch 222/600\n",
      "1117/1117 [==============================] - 1s 588us/sample - loss: 0.5140 - val_loss: 0.5333\n",
      "Epoch 223/600\n"
     ]
    },
    {
     "name": "stdout",
     "output_type": "stream",
     "text": [
      "1117/1117 [==============================] - 1s 623us/sample - loss: 0.5247 - val_loss: 0.5327\n",
      "Epoch 224/600\n",
      "1117/1117 [==============================] - 1s 784us/sample - loss: 0.5247 - val_loss: 0.5323\n",
      "Epoch 225/600\n",
      "1117/1117 [==============================] - 1s 572us/sample - loss: 0.5194 - val_loss: 0.5335\n",
      "Epoch 226/600\n",
      "1117/1117 [==============================] - 1s 507us/sample - loss: 0.5148 - val_loss: 0.5320\n",
      "Epoch 227/600\n",
      "1117/1117 [==============================] - 1s 756us/sample - loss: 0.5384 - val_loss: 0.5319\n",
      "Epoch 228/600\n",
      "1117/1117 [==============================] - 1s 687us/sample - loss: 0.5119 - val_loss: 0.5328\n",
      "Epoch 229/600\n",
      "1117/1117 [==============================] - 1s 703us/sample - loss: 0.5346 - val_loss: 0.5318\n",
      "Epoch 230/600\n",
      "1117/1117 [==============================] - 1s 664us/sample - loss: 0.5177 - val_loss: 0.5307\n",
      "Epoch 231/600\n",
      "1117/1117 [==============================] - 1s 655us/sample - loss: 0.5188 - val_loss: 0.5318\n",
      "Epoch 232/600\n",
      "1117/1117 [==============================] - 1s 633us/sample - loss: 0.5119 - val_loss: 0.5313\n",
      "Epoch 233/600\n",
      "1117/1117 [==============================] - 1s 642us/sample - loss: 0.5172 - val_loss: 0.5314\n",
      "Epoch 234/600\n",
      "1117/1117 [==============================] - 1s 626us/sample - loss: 0.5201 - val_loss: 0.5321\n",
      "Epoch 235/600\n",
      "1117/1117 [==============================] - 1s 664us/sample - loss: 0.5252 - val_loss: 0.5312\n",
      "Epoch 236/600\n",
      "1117/1117 [==============================] - 1s 605us/sample - loss: 0.5365 - val_loss: 0.5296\n",
      "Epoch 237/600\n",
      "1117/1117 [==============================] - 1s 578us/sample - loss: 0.5270 - val_loss: 0.5313\n",
      "Epoch 238/600\n",
      "1117/1117 [==============================] - 1s 663us/sample - loss: 0.5279 - val_loss: 0.5320\n",
      "Epoch 239/600\n",
      "1117/1117 [==============================] - 1s 743us/sample - loss: 0.5228 - val_loss: 0.5327\n",
      "Epoch 240/600\n",
      "1117/1117 [==============================] - 1s 526us/sample - loss: 0.5299 - val_loss: 0.5328\n",
      "Epoch 241/600\n",
      "1117/1117 [==============================] - 1s 616us/sample - loss: 0.5179 - val_loss: 0.5328\n",
      "Epoch 242/600\n",
      "1117/1117 [==============================] - 1s 1ms/sample - loss: 0.5312 - val_loss: 0.5320\n",
      "Epoch 243/600\n",
      "1117/1117 [==============================] - 1s 911us/sample - loss: 0.5193 - val_loss: 0.5318\n",
      "Epoch 244/600\n",
      "1117/1117 [==============================] - 1s 760us/sample - loss: 0.5281 - val_loss: 0.5319\n",
      "Epoch 245/600\n",
      "1117/1117 [==============================] - 1s 616us/sample - loss: 0.5276 - val_loss: 0.5316\n",
      "Epoch 246/600\n",
      "1117/1117 [==============================] - 1s 627us/sample - loss: 0.5117 - val_loss: 0.5310\n",
      "Epoch 247/600\n",
      "1117/1117 [==============================] - 1s 911us/sample - loss: 0.5256 - val_loss: 0.5314\n",
      "Epoch 248/600\n",
      "1117/1117 [==============================] - 1s 503us/sample - loss: 0.5360 - val_loss: 0.5306\n",
      "Epoch 249/600\n",
      "1117/1117 [==============================] - 1s 653us/sample - loss: 0.5205 - val_loss: 0.5306\n",
      "Epoch 250/600\n",
      "1117/1117 [==============================] - 1s 629us/sample - loss: 0.5286 - val_loss: 0.5301\n",
      "Epoch 251/600\n",
      "1117/1117 [==============================] - 1s 572us/sample - loss: 0.5191 - val_loss: 0.5341\n",
      "Epoch 252/600\n",
      "1117/1117 [==============================] - 1s 464us/sample - loss: 0.5188 - val_loss: 0.5361\n",
      "Epoch 253/600\n",
      "1117/1117 [==============================] - 0s 404us/sample - loss: 0.5330 - val_loss: 0.5320\n",
      "Epoch 254/600\n",
      "1117/1117 [==============================] - 1s 549us/sample - loss: 0.5111 - val_loss: 0.5334\n",
      "Epoch 255/600\n",
      "1117/1117 [==============================] - 0s 429us/sample - loss: 0.5313 - val_loss: 0.5331\n",
      "Epoch 256/600\n",
      "1117/1117 [==============================] - 0s 447us/sample - loss: 0.5262 - val_loss: 0.5343\n",
      "Epoch 257/600\n",
      "1117/1117 [==============================] - 0s 436us/sample - loss: 0.5326 - val_loss: 0.5344\n",
      "Epoch 258/600\n",
      "1117/1117 [==============================] - 0s 429us/sample - loss: 0.5195 - val_loss: 0.5345\n",
      "Epoch 259/600\n",
      "1117/1117 [==============================] - ETA: 0s - loss: 0.528 - 0s 423us/sample - loss: 0.5243 - val_loss: 0.5340\n",
      "Epoch 260/600\n",
      "1117/1117 [==============================] - 0s 399us/sample - loss: 0.5292 - val_loss: 0.5335\n",
      "Epoch 261/600\n",
      "1117/1117 [==============================] - 0s 428us/sample - loss: 0.5303 - val_loss: 0.5312\n",
      "Epoch 00261: early stopping\n"
     ]
    },
    {
     "data": {
      "text/plain": [
       "<tensorflow.python.keras.callbacks.History at 0x1b367f7f548>"
      ]
     },
     "execution_count": 153,
     "metadata": {},
     "output_type": "execute_result"
    }
   ],
   "source": [
    "nn.fit(x=X_train, \n",
    "          y=y_train, \n",
    "          epochs=600,\n",
    "          validation_data=(X_test, y_test), verbose=1,\n",
    "          callbacks=[early_stop]\n",
    "          )"
   ]
  },
  {
   "cell_type": "markdown",
   "metadata": {},
   "source": [
    "#### Generate Predictions"
   ]
  },
  {
   "cell_type": "code",
   "execution_count": 154,
   "metadata": {},
   "outputs": [],
   "source": [
    "nn_preds = nn.predict_classes(X_test)"
   ]
  },
  {
   "cell_type": "markdown",
   "metadata": {},
   "source": [
    "#### Confusion Matrix and Classification Report"
   ]
  },
  {
   "cell_type": "code",
   "execution_count": 155,
   "metadata": {},
   "outputs": [
    {
     "name": "stdout",
     "output_type": "stream",
     "text": [
      "[[196  47]\n",
      " [ 73 164]]\n"
     ]
    }
   ],
   "source": [
    "print(confusion_matrix(y_test,nn_preds))"
   ]
  },
  {
   "cell_type": "code",
   "execution_count": 156,
   "metadata": {},
   "outputs": [
    {
     "name": "stdout",
     "output_type": "stream",
     "text": [
      "              precision    recall  f1-score   support\n",
      "\n",
      "           0       0.73      0.81      0.77       243\n",
      "           1       0.78      0.69      0.73       237\n",
      "\n",
      "    accuracy                           0.75       480\n",
      "   macro avg       0.75      0.75      0.75       480\n",
      "weighted avg       0.75      0.75      0.75       480\n",
      "\n"
     ]
    }
   ],
   "source": [
    "print(classification_report(y_test,nn_preds))"
   ]
  },
  {
   "cell_type": "code",
   "execution_count": null,
   "metadata": {},
   "outputs": [],
   "source": []
  }
 ],
 "metadata": {
  "kernelspec": {
   "display_name": "Python 3",
   "language": "python",
   "name": "python3"
  },
  "language_info": {
   "codemirror_mode": {
    "name": "ipython",
    "version": 3
   },
   "file_extension": ".py",
   "mimetype": "text/x-python",
   "name": "python",
   "nbconvert_exporter": "python",
   "pygments_lexer": "ipython3",
   "version": "3.7.7"
  }
 },
 "nbformat": 4,
 "nbformat_minor": 4
}
